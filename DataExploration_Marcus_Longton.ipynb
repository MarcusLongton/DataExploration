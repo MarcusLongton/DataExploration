{
  "cells": [
    {
      "cell_type": "markdown",
      "metadata": {
        "id": "view-in-github",
        "colab_type": "text"
      },
      "source": [
        "<a href=\"https://colab.research.google.com/github/MarcusLongton/DataExploration/blob/main/DataExploration_Marcus_Longton.ipynb\" target=\"_parent\"><img src=\"https://colab.research.google.com/assets/colab-badge.svg\" alt=\"Open In Colab\"/></a>"
      ]
    },
    {
      "cell_type": "markdown",
      "metadata": {
        "id": "CcUT6Fon_qRE"
      },
      "source": [
        "### Required Assignment 5.1: Will the Customer Accept the Coupon?\n",
        "\n",
        "**Context**\n",
        "\n",
        "Imagine driving through town and a coupon is delivered to your cell phone for a restaurant near where you are driving. Would you accept that coupon and take a short detour to the restaurant? Would you accept the coupon but use it on a subsequent trip? Would you ignore the coupon entirely? What if the coupon was for a bar instead of a restaurant? What about a coffee house? Would you accept a bar coupon with a minor passenger in the car? What about if it was just you and your partner in the car? Would weather impact the rate of acceptance? What about the time of day?\n",
        "\n",
        "Obviously, proximity to the business is a factor on whether the coupon is delivered to the driver or not, but what are the factors that determine whether a driver accepts the coupon once it is delivered to them? How would you determine whether a driver is likely to accept a coupon?\n",
        "\n",
        "**Overview**\n",
        "\n",
        "The goal of this project is to use what you know about visualizations and probability distributions to distinguish between customers who accepted a driving coupon versus those that did not.\n",
        "\n",
        "**Data**\n",
        "\n",
        "This data comes to us from the UCI Machine Learning repository and was collected via a survey on Amazon Mechanical Turk. The survey describes different driving scenarios including the destination, current time, weather, passenger, etc., and then ask the person whether he will accept the coupon if he is the driver. Answers that the user will drive there ‘right away’ or ‘later before the coupon expires’ are labeled as ‘Y = 1’ and answers ‘no, I do not want the coupon’ are labeled as ‘Y = 0’.  There are five different types of coupons -- less expensive restaurants (under \\$20), coffee houses, carry out & take away, bar, and more expensive restaurants (\\$20 - $50)."
      ]
    },
    {
      "cell_type": "markdown",
      "metadata": {
        "id": "1wORvMBJ_qRF"
      },
      "source": [
        "**Deliverables**\n",
        "\n",
        "Your final product should be a brief report that highlights the differences between customers who did and did not accept the coupons.  To explore the data you will utilize your knowledge of plotting, statistical summaries, and visualization using Python. You will publish your findings in a public facing github repository as your first portfolio piece.\n",
        "\n",
        "\n",
        "\n"
      ]
    },
    {
      "cell_type": "markdown",
      "metadata": {
        "id": "pG6_Ym6q_qRG"
      },
      "source": [
        "### Data Description\n",
        "Keep in mind that these values mentioned below are average values.\n",
        "\n",
        "The attributes of this data set include:\n",
        "1. User attributes\n",
        "    -  Gender: male, female\n",
        "    -  Age: below 21, 21 to 25, 26 to 30, etc.\n",
        "    -  Marital Status: single, married partner, unmarried partner, or widowed\n",
        "    -  Number of children: 0, 1, or more than 1\n",
        "    -  Education: high school, bachelors degree, associates degree, or graduate degree\n",
        "    -  Occupation: architecture & engineering, business & financial, etc.\n",
        "    -  Annual income: less than \\\\$12500, \\\\$12500 - \\\\$24999, \\\\$25000 - \\\\$37499, etc.\n",
        "    -  Number of times that he/she goes to a bar: 0, less than 1, 1 to 3, 4 to 8 or greater than 8\n",
        "    -  Number of times that he/she buys takeaway food: 0, less than 1, 1 to 3, 4 to 8 or greater\n",
        "    than 8\n",
        "    -  Number of times that he/she goes to a coffee house: 0, less than 1, 1 to 3, 4 to 8 or\n",
        "    greater than 8\n",
        "    -  Number of times that he/she eats at a restaurant with average expense less than \\\\$20 per\n",
        "    person: 0, less than 1, 1 to 3, 4 to 8 or greater than 8\n",
        "    -  Number of times that he/she goes to a bar: 0, less than 1, 1 to 3, 4 to 8 or greater than 8\n",
        "    \n",
        "\n",
        "2. Contextual attributes\n",
        "    - Driving destination: home, work, or no urgent destination\n",
        "    - Location of user, coupon and destination: we provide a map to show the geographical\n",
        "    location of the user, destination, and the venue, and we mark the distance between each\n",
        "    two places with time of driving. The user can see whether the venue is in the same\n",
        "    direction as the destination.\n",
        "    - Weather: sunny, rainy, or snowy\n",
        "    - Temperature: 30F, 55F, or 80F\n",
        "    - Time: 10AM, 2PM, or 6PM\n",
        "    - Passenger: alone, partner, kid(s), or friend(s)\n",
        "\n",
        "\n",
        "3. Coupon attributes\n",
        "    - time before it expires: 2 hours or one day"
      ]
    },
    {
      "cell_type": "code",
      "execution_count": 1,
      "metadata": {
        "id": "dzNoP3o__qRG"
      },
      "outputs": [],
      "source": [
        "import matplotlib.pyplot as plt\n",
        "import seaborn as sns\n",
        "import pandas as pd\n",
        "import numpy as np\n",
        "import plotly.express as px\n",
        "import plotly.graph_objects as go"
      ]
    },
    {
      "cell_type": "markdown",
      "metadata": {
        "id": "Ct8pI1uE_qRG"
      },
      "source": [
        "### Problems\n",
        "\n",
        "Use the prompts below to get started with your data analysis.  \n",
        "\n",
        "1. Read in the `coupons.csv` file.\n",
        "\n",
        "\n"
      ]
    },
    {
      "cell_type": "code",
      "execution_count": 2,
      "metadata": {
        "id": "X0vbffYg_qRH"
      },
      "outputs": [],
      "source": [
        "data = pd.read_csv('coupons.csv')"
      ]
    },
    {
      "cell_type": "code",
      "execution_count": 3,
      "metadata": {
        "id": "TXofQ_DF_qRH",
        "outputId": "9f61d29a-ca9e-489b-a86a-a5e05ed2a0a1",
        "colab": {
          "base_uri": "https://localhost:8080/",
          "height": 342
        }
      },
      "outputs": [
        {
          "output_type": "execute_result",
          "data": {
            "text/plain": [
              "       destination  passanger weather  temperature  time  \\\n",
              "0  No Urgent Place      Alone   Sunny           55   2PM   \n",
              "1  No Urgent Place  Friend(s)   Sunny           80  10AM   \n",
              "2  No Urgent Place  Friend(s)   Sunny           80  10AM   \n",
              "3  No Urgent Place  Friend(s)   Sunny           80   2PM   \n",
              "4  No Urgent Place  Friend(s)   Sunny           80   2PM   \n",
              "\n",
              "                  coupon expiration  gender age      maritalStatus  ...  \\\n",
              "0        Restaurant(<20)         1d  Female  21  Unmarried partner  ...   \n",
              "1           Coffee House         2h  Female  21  Unmarried partner  ...   \n",
              "2  Carry out & Take away         2h  Female  21  Unmarried partner  ...   \n",
              "3           Coffee House         2h  Female  21  Unmarried partner  ...   \n",
              "4           Coffee House         1d  Female  21  Unmarried partner  ...   \n",
              "\n",
              "   CoffeeHouse CarryAway RestaurantLessThan20 Restaurant20To50  \\\n",
              "0        never       NaN                  4~8              1~3   \n",
              "1        never       NaN                  4~8              1~3   \n",
              "2        never       NaN                  4~8              1~3   \n",
              "3        never       NaN                  4~8              1~3   \n",
              "4        never       NaN                  4~8              1~3   \n",
              "\n",
              "  toCoupon_GEQ5min toCoupon_GEQ15min toCoupon_GEQ25min direction_same  \\\n",
              "0                1                 0                 0              0   \n",
              "1                1                 0                 0              0   \n",
              "2                1                 1                 0              0   \n",
              "3                1                 1                 0              0   \n",
              "4                1                 1                 0              0   \n",
              "\n",
              "  direction_opp  Y  \n",
              "0             1  1  \n",
              "1             1  0  \n",
              "2             1  1  \n",
              "3             1  0  \n",
              "4             1  0  \n",
              "\n",
              "[5 rows x 26 columns]"
            ],
            "text/html": [
              "\n",
              "  <div id=\"df-498a554f-e9d7-4c7a-b6c2-cb8a74ca1a34\" class=\"colab-df-container\">\n",
              "    <div>\n",
              "<style scoped>\n",
              "    .dataframe tbody tr th:only-of-type {\n",
              "        vertical-align: middle;\n",
              "    }\n",
              "\n",
              "    .dataframe tbody tr th {\n",
              "        vertical-align: top;\n",
              "    }\n",
              "\n",
              "    .dataframe thead th {\n",
              "        text-align: right;\n",
              "    }\n",
              "</style>\n",
              "<table border=\"1\" class=\"dataframe\">\n",
              "  <thead>\n",
              "    <tr style=\"text-align: right;\">\n",
              "      <th></th>\n",
              "      <th>destination</th>\n",
              "      <th>passanger</th>\n",
              "      <th>weather</th>\n",
              "      <th>temperature</th>\n",
              "      <th>time</th>\n",
              "      <th>coupon</th>\n",
              "      <th>expiration</th>\n",
              "      <th>gender</th>\n",
              "      <th>age</th>\n",
              "      <th>maritalStatus</th>\n",
              "      <th>...</th>\n",
              "      <th>CoffeeHouse</th>\n",
              "      <th>CarryAway</th>\n",
              "      <th>RestaurantLessThan20</th>\n",
              "      <th>Restaurant20To50</th>\n",
              "      <th>toCoupon_GEQ5min</th>\n",
              "      <th>toCoupon_GEQ15min</th>\n",
              "      <th>toCoupon_GEQ25min</th>\n",
              "      <th>direction_same</th>\n",
              "      <th>direction_opp</th>\n",
              "      <th>Y</th>\n",
              "    </tr>\n",
              "  </thead>\n",
              "  <tbody>\n",
              "    <tr>\n",
              "      <th>0</th>\n",
              "      <td>No Urgent Place</td>\n",
              "      <td>Alone</td>\n",
              "      <td>Sunny</td>\n",
              "      <td>55</td>\n",
              "      <td>2PM</td>\n",
              "      <td>Restaurant(&lt;20)</td>\n",
              "      <td>1d</td>\n",
              "      <td>Female</td>\n",
              "      <td>21</td>\n",
              "      <td>Unmarried partner</td>\n",
              "      <td>...</td>\n",
              "      <td>never</td>\n",
              "      <td>NaN</td>\n",
              "      <td>4~8</td>\n",
              "      <td>1~3</td>\n",
              "      <td>1</td>\n",
              "      <td>0</td>\n",
              "      <td>0</td>\n",
              "      <td>0</td>\n",
              "      <td>1</td>\n",
              "      <td>1</td>\n",
              "    </tr>\n",
              "    <tr>\n",
              "      <th>1</th>\n",
              "      <td>No Urgent Place</td>\n",
              "      <td>Friend(s)</td>\n",
              "      <td>Sunny</td>\n",
              "      <td>80</td>\n",
              "      <td>10AM</td>\n",
              "      <td>Coffee House</td>\n",
              "      <td>2h</td>\n",
              "      <td>Female</td>\n",
              "      <td>21</td>\n",
              "      <td>Unmarried partner</td>\n",
              "      <td>...</td>\n",
              "      <td>never</td>\n",
              "      <td>NaN</td>\n",
              "      <td>4~8</td>\n",
              "      <td>1~3</td>\n",
              "      <td>1</td>\n",
              "      <td>0</td>\n",
              "      <td>0</td>\n",
              "      <td>0</td>\n",
              "      <td>1</td>\n",
              "      <td>0</td>\n",
              "    </tr>\n",
              "    <tr>\n",
              "      <th>2</th>\n",
              "      <td>No Urgent Place</td>\n",
              "      <td>Friend(s)</td>\n",
              "      <td>Sunny</td>\n",
              "      <td>80</td>\n",
              "      <td>10AM</td>\n",
              "      <td>Carry out &amp; Take away</td>\n",
              "      <td>2h</td>\n",
              "      <td>Female</td>\n",
              "      <td>21</td>\n",
              "      <td>Unmarried partner</td>\n",
              "      <td>...</td>\n",
              "      <td>never</td>\n",
              "      <td>NaN</td>\n",
              "      <td>4~8</td>\n",
              "      <td>1~3</td>\n",
              "      <td>1</td>\n",
              "      <td>1</td>\n",
              "      <td>0</td>\n",
              "      <td>0</td>\n",
              "      <td>1</td>\n",
              "      <td>1</td>\n",
              "    </tr>\n",
              "    <tr>\n",
              "      <th>3</th>\n",
              "      <td>No Urgent Place</td>\n",
              "      <td>Friend(s)</td>\n",
              "      <td>Sunny</td>\n",
              "      <td>80</td>\n",
              "      <td>2PM</td>\n",
              "      <td>Coffee House</td>\n",
              "      <td>2h</td>\n",
              "      <td>Female</td>\n",
              "      <td>21</td>\n",
              "      <td>Unmarried partner</td>\n",
              "      <td>...</td>\n",
              "      <td>never</td>\n",
              "      <td>NaN</td>\n",
              "      <td>4~8</td>\n",
              "      <td>1~3</td>\n",
              "      <td>1</td>\n",
              "      <td>1</td>\n",
              "      <td>0</td>\n",
              "      <td>0</td>\n",
              "      <td>1</td>\n",
              "      <td>0</td>\n",
              "    </tr>\n",
              "    <tr>\n",
              "      <th>4</th>\n",
              "      <td>No Urgent Place</td>\n",
              "      <td>Friend(s)</td>\n",
              "      <td>Sunny</td>\n",
              "      <td>80</td>\n",
              "      <td>2PM</td>\n",
              "      <td>Coffee House</td>\n",
              "      <td>1d</td>\n",
              "      <td>Female</td>\n",
              "      <td>21</td>\n",
              "      <td>Unmarried partner</td>\n",
              "      <td>...</td>\n",
              "      <td>never</td>\n",
              "      <td>NaN</td>\n",
              "      <td>4~8</td>\n",
              "      <td>1~3</td>\n",
              "      <td>1</td>\n",
              "      <td>1</td>\n",
              "      <td>0</td>\n",
              "      <td>0</td>\n",
              "      <td>1</td>\n",
              "      <td>0</td>\n",
              "    </tr>\n",
              "  </tbody>\n",
              "</table>\n",
              "<p>5 rows × 26 columns</p>\n",
              "</div>\n",
              "    <div class=\"colab-df-buttons\">\n",
              "\n",
              "  <div class=\"colab-df-container\">\n",
              "    <button class=\"colab-df-convert\" onclick=\"convertToInteractive('df-498a554f-e9d7-4c7a-b6c2-cb8a74ca1a34')\"\n",
              "            title=\"Convert this dataframe to an interactive table.\"\n",
              "            style=\"display:none;\">\n",
              "\n",
              "  <svg xmlns=\"http://www.w3.org/2000/svg\" height=\"24px\" viewBox=\"0 -960 960 960\">\n",
              "    <path d=\"M120-120v-720h720v720H120Zm60-500h600v-160H180v160Zm220 220h160v-160H400v160Zm0 220h160v-160H400v160ZM180-400h160v-160H180v160Zm440 0h160v-160H620v160ZM180-180h160v-160H180v160Zm440 0h160v-160H620v160Z\"/>\n",
              "  </svg>\n",
              "    </button>\n",
              "\n",
              "  <style>\n",
              "    .colab-df-container {\n",
              "      display:flex;\n",
              "      gap: 12px;\n",
              "    }\n",
              "\n",
              "    .colab-df-convert {\n",
              "      background-color: #E8F0FE;\n",
              "      border: none;\n",
              "      border-radius: 50%;\n",
              "      cursor: pointer;\n",
              "      display: none;\n",
              "      fill: #1967D2;\n",
              "      height: 32px;\n",
              "      padding: 0 0 0 0;\n",
              "      width: 32px;\n",
              "    }\n",
              "\n",
              "    .colab-df-convert:hover {\n",
              "      background-color: #E2EBFA;\n",
              "      box-shadow: 0px 1px 2px rgba(60, 64, 67, 0.3), 0px 1px 3px 1px rgba(60, 64, 67, 0.15);\n",
              "      fill: #174EA6;\n",
              "    }\n",
              "\n",
              "    .colab-df-buttons div {\n",
              "      margin-bottom: 4px;\n",
              "    }\n",
              "\n",
              "    [theme=dark] .colab-df-convert {\n",
              "      background-color: #3B4455;\n",
              "      fill: #D2E3FC;\n",
              "    }\n",
              "\n",
              "    [theme=dark] .colab-df-convert:hover {\n",
              "      background-color: #434B5C;\n",
              "      box-shadow: 0px 1px 3px 1px rgba(0, 0, 0, 0.15);\n",
              "      filter: drop-shadow(0px 1px 2px rgba(0, 0, 0, 0.3));\n",
              "      fill: #FFFFFF;\n",
              "    }\n",
              "  </style>\n",
              "\n",
              "    <script>\n",
              "      const buttonEl =\n",
              "        document.querySelector('#df-498a554f-e9d7-4c7a-b6c2-cb8a74ca1a34 button.colab-df-convert');\n",
              "      buttonEl.style.display =\n",
              "        google.colab.kernel.accessAllowed ? 'block' : 'none';\n",
              "\n",
              "      async function convertToInteractive(key) {\n",
              "        const element = document.querySelector('#df-498a554f-e9d7-4c7a-b6c2-cb8a74ca1a34');\n",
              "        const dataTable =\n",
              "          await google.colab.kernel.invokeFunction('convertToInteractive',\n",
              "                                                    [key], {});\n",
              "        if (!dataTable) return;\n",
              "\n",
              "        const docLinkHtml = 'Like what you see? Visit the ' +\n",
              "          '<a target=\"_blank\" href=https://colab.research.google.com/notebooks/data_table.ipynb>data table notebook</a>'\n",
              "          + ' to learn more about interactive tables.';\n",
              "        element.innerHTML = '';\n",
              "        dataTable['output_type'] = 'display_data';\n",
              "        await google.colab.output.renderOutput(dataTable, element);\n",
              "        const docLink = document.createElement('div');\n",
              "        docLink.innerHTML = docLinkHtml;\n",
              "        element.appendChild(docLink);\n",
              "      }\n",
              "    </script>\n",
              "  </div>\n",
              "\n",
              "\n",
              "<div id=\"df-be2acb50-c79c-4940-a0ca-d511c3473bd6\">\n",
              "  <button class=\"colab-df-quickchart\" onclick=\"quickchart('df-be2acb50-c79c-4940-a0ca-d511c3473bd6')\"\n",
              "            title=\"Suggest charts\"\n",
              "            style=\"display:none;\">\n",
              "\n",
              "<svg xmlns=\"http://www.w3.org/2000/svg\" height=\"24px\"viewBox=\"0 0 24 24\"\n",
              "     width=\"24px\">\n",
              "    <g>\n",
              "        <path d=\"M19 3H5c-1.1 0-2 .9-2 2v14c0 1.1.9 2 2 2h14c1.1 0 2-.9 2-2V5c0-1.1-.9-2-2-2zM9 17H7v-7h2v7zm4 0h-2V7h2v10zm4 0h-2v-4h2v4z\"/>\n",
              "    </g>\n",
              "</svg>\n",
              "  </button>\n",
              "\n",
              "<style>\n",
              "  .colab-df-quickchart {\n",
              "      --bg-color: #E8F0FE;\n",
              "      --fill-color: #1967D2;\n",
              "      --hover-bg-color: #E2EBFA;\n",
              "      --hover-fill-color: #174EA6;\n",
              "      --disabled-fill-color: #AAA;\n",
              "      --disabled-bg-color: #DDD;\n",
              "  }\n",
              "\n",
              "  [theme=dark] .colab-df-quickchart {\n",
              "      --bg-color: #3B4455;\n",
              "      --fill-color: #D2E3FC;\n",
              "      --hover-bg-color: #434B5C;\n",
              "      --hover-fill-color: #FFFFFF;\n",
              "      --disabled-bg-color: #3B4455;\n",
              "      --disabled-fill-color: #666;\n",
              "  }\n",
              "\n",
              "  .colab-df-quickchart {\n",
              "    background-color: var(--bg-color);\n",
              "    border: none;\n",
              "    border-radius: 50%;\n",
              "    cursor: pointer;\n",
              "    display: none;\n",
              "    fill: var(--fill-color);\n",
              "    height: 32px;\n",
              "    padding: 0;\n",
              "    width: 32px;\n",
              "  }\n",
              "\n",
              "  .colab-df-quickchart:hover {\n",
              "    background-color: var(--hover-bg-color);\n",
              "    box-shadow: 0 1px 2px rgba(60, 64, 67, 0.3), 0 1px 3px 1px rgba(60, 64, 67, 0.15);\n",
              "    fill: var(--button-hover-fill-color);\n",
              "  }\n",
              "\n",
              "  .colab-df-quickchart-complete:disabled,\n",
              "  .colab-df-quickchart-complete:disabled:hover {\n",
              "    background-color: var(--disabled-bg-color);\n",
              "    fill: var(--disabled-fill-color);\n",
              "    box-shadow: none;\n",
              "  }\n",
              "\n",
              "  .colab-df-spinner {\n",
              "    border: 2px solid var(--fill-color);\n",
              "    border-color: transparent;\n",
              "    border-bottom-color: var(--fill-color);\n",
              "    animation:\n",
              "      spin 1s steps(1) infinite;\n",
              "  }\n",
              "\n",
              "  @keyframes spin {\n",
              "    0% {\n",
              "      border-color: transparent;\n",
              "      border-bottom-color: var(--fill-color);\n",
              "      border-left-color: var(--fill-color);\n",
              "    }\n",
              "    20% {\n",
              "      border-color: transparent;\n",
              "      border-left-color: var(--fill-color);\n",
              "      border-top-color: var(--fill-color);\n",
              "    }\n",
              "    30% {\n",
              "      border-color: transparent;\n",
              "      border-left-color: var(--fill-color);\n",
              "      border-top-color: var(--fill-color);\n",
              "      border-right-color: var(--fill-color);\n",
              "    }\n",
              "    40% {\n",
              "      border-color: transparent;\n",
              "      border-right-color: var(--fill-color);\n",
              "      border-top-color: var(--fill-color);\n",
              "    }\n",
              "    60% {\n",
              "      border-color: transparent;\n",
              "      border-right-color: var(--fill-color);\n",
              "    }\n",
              "    80% {\n",
              "      border-color: transparent;\n",
              "      border-right-color: var(--fill-color);\n",
              "      border-bottom-color: var(--fill-color);\n",
              "    }\n",
              "    90% {\n",
              "      border-color: transparent;\n",
              "      border-bottom-color: var(--fill-color);\n",
              "    }\n",
              "  }\n",
              "</style>\n",
              "\n",
              "  <script>\n",
              "    async function quickchart(key) {\n",
              "      const quickchartButtonEl =\n",
              "        document.querySelector('#' + key + ' button');\n",
              "      quickchartButtonEl.disabled = true;  // To prevent multiple clicks.\n",
              "      quickchartButtonEl.classList.add('colab-df-spinner');\n",
              "      try {\n",
              "        const charts = await google.colab.kernel.invokeFunction(\n",
              "            'suggestCharts', [key], {});\n",
              "      } catch (error) {\n",
              "        console.error('Error during call to suggestCharts:', error);\n",
              "      }\n",
              "      quickchartButtonEl.classList.remove('colab-df-spinner');\n",
              "      quickchartButtonEl.classList.add('colab-df-quickchart-complete');\n",
              "    }\n",
              "    (() => {\n",
              "      let quickchartButtonEl =\n",
              "        document.querySelector('#df-be2acb50-c79c-4940-a0ca-d511c3473bd6 button');\n",
              "      quickchartButtonEl.style.display =\n",
              "        google.colab.kernel.accessAllowed ? 'block' : 'none';\n",
              "    })();\n",
              "  </script>\n",
              "</div>\n",
              "\n",
              "    </div>\n",
              "  </div>\n"
            ],
            "application/vnd.google.colaboratory.intrinsic+json": {
              "type": "dataframe",
              "variable_name": "data"
            }
          },
          "metadata": {},
          "execution_count": 3
        }
      ],
      "source": [
        "data.head()"
      ]
    },
    {
      "cell_type": "code",
      "source": [
        "data.shape"
      ],
      "metadata": {
        "colab": {
          "base_uri": "https://localhost:8080/"
        },
        "id": "iaugcSVHq7fA",
        "outputId": "870235b1-57ac-4c09-d2ef-bc5b27a24f65"
      },
      "execution_count": 5,
      "outputs": [
        {
          "output_type": "execute_result",
          "data": {
            "text/plain": [
              "(12684, 26)"
            ]
          },
          "metadata": {},
          "execution_count": 5
        }
      ]
    },
    {
      "cell_type": "code",
      "source": [
        "data.columns\n"
      ],
      "metadata": {
        "id": "5woVRPd1v4Nx",
        "colab": {
          "base_uri": "https://localhost:8080/"
        },
        "outputId": "e533358b-68a0-4eab-ded6-a00e25479b23"
      },
      "execution_count": null,
      "outputs": [
        {
          "output_type": "execute_result",
          "data": {
            "text/plain": [
              "Index(['destination', 'passanger', 'weather', 'temperature', 'time', 'coupon',\n",
              "       'expiration', 'gender', 'age', 'maritalStatus', 'has_children',\n",
              "       'education', 'occupation', 'income', 'Bar', 'CoffeeHouse', 'CarryAway',\n",
              "       'RestaurantLessThan20', 'Restaurant20To50', 'toCoupon_GEQ5min',\n",
              "       'toCoupon_GEQ15min', 'toCoupon_GEQ25min', 'direction_same',\n",
              "       'direction_opp', 'Y'],\n",
              "      dtype='object')"
            ]
          },
          "metadata": {},
          "execution_count": 67
        }
      ]
    },
    {
      "cell_type": "markdown",
      "metadata": {
        "id": "GcDs78ZH_qRH"
      },
      "source": [
        "2. Investigate the dataset for missing or problematic data."
      ]
    },
    {
      "cell_type": "code",
      "execution_count": 6,
      "metadata": {
        "id": "6CwL6oWj_qRH",
        "colab": {
          "base_uri": "https://localhost:8080/",
          "height": 899
        },
        "outputId": "d02c28d7-3cb1-479b-94e6-19cd66af6f85"
      },
      "outputs": [
        {
          "output_type": "execute_result",
          "data": {
            "text/plain": [
              "destination                 0\n",
              "passanger                   0\n",
              "weather                     0\n",
              "temperature                 0\n",
              "time                        0\n",
              "coupon                      0\n",
              "expiration                  0\n",
              "gender                      0\n",
              "age                         0\n",
              "maritalStatus               0\n",
              "has_children                0\n",
              "education                   0\n",
              "occupation                  0\n",
              "income                      0\n",
              "car                     12576\n",
              "Bar                       107\n",
              "CoffeeHouse               217\n",
              "CarryAway                 151\n",
              "RestaurantLessThan20      130\n",
              "Restaurant20To50          189\n",
              "toCoupon_GEQ5min            0\n",
              "toCoupon_GEQ15min           0\n",
              "toCoupon_GEQ25min           0\n",
              "direction_same              0\n",
              "direction_opp               0\n",
              "Y                           0\n",
              "dtype: int64"
            ],
            "text/html": [
              "<div>\n",
              "<style scoped>\n",
              "    .dataframe tbody tr th:only-of-type {\n",
              "        vertical-align: middle;\n",
              "    }\n",
              "\n",
              "    .dataframe tbody tr th {\n",
              "        vertical-align: top;\n",
              "    }\n",
              "\n",
              "    .dataframe thead th {\n",
              "        text-align: right;\n",
              "    }\n",
              "</style>\n",
              "<table border=\"1\" class=\"dataframe\">\n",
              "  <thead>\n",
              "    <tr style=\"text-align: right;\">\n",
              "      <th></th>\n",
              "      <th>0</th>\n",
              "    </tr>\n",
              "  </thead>\n",
              "  <tbody>\n",
              "    <tr>\n",
              "      <th>destination</th>\n",
              "      <td>0</td>\n",
              "    </tr>\n",
              "    <tr>\n",
              "      <th>passanger</th>\n",
              "      <td>0</td>\n",
              "    </tr>\n",
              "    <tr>\n",
              "      <th>weather</th>\n",
              "      <td>0</td>\n",
              "    </tr>\n",
              "    <tr>\n",
              "      <th>temperature</th>\n",
              "      <td>0</td>\n",
              "    </tr>\n",
              "    <tr>\n",
              "      <th>time</th>\n",
              "      <td>0</td>\n",
              "    </tr>\n",
              "    <tr>\n",
              "      <th>coupon</th>\n",
              "      <td>0</td>\n",
              "    </tr>\n",
              "    <tr>\n",
              "      <th>expiration</th>\n",
              "      <td>0</td>\n",
              "    </tr>\n",
              "    <tr>\n",
              "      <th>gender</th>\n",
              "      <td>0</td>\n",
              "    </tr>\n",
              "    <tr>\n",
              "      <th>age</th>\n",
              "      <td>0</td>\n",
              "    </tr>\n",
              "    <tr>\n",
              "      <th>maritalStatus</th>\n",
              "      <td>0</td>\n",
              "    </tr>\n",
              "    <tr>\n",
              "      <th>has_children</th>\n",
              "      <td>0</td>\n",
              "    </tr>\n",
              "    <tr>\n",
              "      <th>education</th>\n",
              "      <td>0</td>\n",
              "    </tr>\n",
              "    <tr>\n",
              "      <th>occupation</th>\n",
              "      <td>0</td>\n",
              "    </tr>\n",
              "    <tr>\n",
              "      <th>income</th>\n",
              "      <td>0</td>\n",
              "    </tr>\n",
              "    <tr>\n",
              "      <th>car</th>\n",
              "      <td>12576</td>\n",
              "    </tr>\n",
              "    <tr>\n",
              "      <th>Bar</th>\n",
              "      <td>107</td>\n",
              "    </tr>\n",
              "    <tr>\n",
              "      <th>CoffeeHouse</th>\n",
              "      <td>217</td>\n",
              "    </tr>\n",
              "    <tr>\n",
              "      <th>CarryAway</th>\n",
              "      <td>151</td>\n",
              "    </tr>\n",
              "    <tr>\n",
              "      <th>RestaurantLessThan20</th>\n",
              "      <td>130</td>\n",
              "    </tr>\n",
              "    <tr>\n",
              "      <th>Restaurant20To50</th>\n",
              "      <td>189</td>\n",
              "    </tr>\n",
              "    <tr>\n",
              "      <th>toCoupon_GEQ5min</th>\n",
              "      <td>0</td>\n",
              "    </tr>\n",
              "    <tr>\n",
              "      <th>toCoupon_GEQ15min</th>\n",
              "      <td>0</td>\n",
              "    </tr>\n",
              "    <tr>\n",
              "      <th>toCoupon_GEQ25min</th>\n",
              "      <td>0</td>\n",
              "    </tr>\n",
              "    <tr>\n",
              "      <th>direction_same</th>\n",
              "      <td>0</td>\n",
              "    </tr>\n",
              "    <tr>\n",
              "      <th>direction_opp</th>\n",
              "      <td>0</td>\n",
              "    </tr>\n",
              "    <tr>\n",
              "      <th>Y</th>\n",
              "      <td>0</td>\n",
              "    </tr>\n",
              "  </tbody>\n",
              "</table>\n",
              "</div><br><label><b>dtype:</b> int64</label>"
            ]
          },
          "metadata": {},
          "execution_count": 6
        }
      ],
      "source": [
        "data.isnull().sum()"
      ]
    },
    {
      "cell_type": "code",
      "source": [
        "data.dtypes"
      ],
      "metadata": {
        "colab": {
          "base_uri": "https://localhost:8080/",
          "height": 899
        },
        "id": "NlY1PDn2rFYQ",
        "outputId": "0293b943-910d-4555-82dd-8c98ff5bd84b"
      },
      "execution_count": 7,
      "outputs": [
        {
          "output_type": "execute_result",
          "data": {
            "text/plain": [
              "destination             object\n",
              "passanger               object\n",
              "weather                 object\n",
              "temperature              int64\n",
              "time                    object\n",
              "coupon                  object\n",
              "expiration              object\n",
              "gender                  object\n",
              "age                     object\n",
              "maritalStatus           object\n",
              "has_children             int64\n",
              "education               object\n",
              "occupation              object\n",
              "income                  object\n",
              "car                     object\n",
              "Bar                     object\n",
              "CoffeeHouse             object\n",
              "CarryAway               object\n",
              "RestaurantLessThan20    object\n",
              "Restaurant20To50        object\n",
              "toCoupon_GEQ5min         int64\n",
              "toCoupon_GEQ15min        int64\n",
              "toCoupon_GEQ25min        int64\n",
              "direction_same           int64\n",
              "direction_opp            int64\n",
              "Y                        int64\n",
              "dtype: object"
            ],
            "text/html": [
              "<div>\n",
              "<style scoped>\n",
              "    .dataframe tbody tr th:only-of-type {\n",
              "        vertical-align: middle;\n",
              "    }\n",
              "\n",
              "    .dataframe tbody tr th {\n",
              "        vertical-align: top;\n",
              "    }\n",
              "\n",
              "    .dataframe thead th {\n",
              "        text-align: right;\n",
              "    }\n",
              "</style>\n",
              "<table border=\"1\" class=\"dataframe\">\n",
              "  <thead>\n",
              "    <tr style=\"text-align: right;\">\n",
              "      <th></th>\n",
              "      <th>0</th>\n",
              "    </tr>\n",
              "  </thead>\n",
              "  <tbody>\n",
              "    <tr>\n",
              "      <th>destination</th>\n",
              "      <td>object</td>\n",
              "    </tr>\n",
              "    <tr>\n",
              "      <th>passanger</th>\n",
              "      <td>object</td>\n",
              "    </tr>\n",
              "    <tr>\n",
              "      <th>weather</th>\n",
              "      <td>object</td>\n",
              "    </tr>\n",
              "    <tr>\n",
              "      <th>temperature</th>\n",
              "      <td>int64</td>\n",
              "    </tr>\n",
              "    <tr>\n",
              "      <th>time</th>\n",
              "      <td>object</td>\n",
              "    </tr>\n",
              "    <tr>\n",
              "      <th>coupon</th>\n",
              "      <td>object</td>\n",
              "    </tr>\n",
              "    <tr>\n",
              "      <th>expiration</th>\n",
              "      <td>object</td>\n",
              "    </tr>\n",
              "    <tr>\n",
              "      <th>gender</th>\n",
              "      <td>object</td>\n",
              "    </tr>\n",
              "    <tr>\n",
              "      <th>age</th>\n",
              "      <td>object</td>\n",
              "    </tr>\n",
              "    <tr>\n",
              "      <th>maritalStatus</th>\n",
              "      <td>object</td>\n",
              "    </tr>\n",
              "    <tr>\n",
              "      <th>has_children</th>\n",
              "      <td>int64</td>\n",
              "    </tr>\n",
              "    <tr>\n",
              "      <th>education</th>\n",
              "      <td>object</td>\n",
              "    </tr>\n",
              "    <tr>\n",
              "      <th>occupation</th>\n",
              "      <td>object</td>\n",
              "    </tr>\n",
              "    <tr>\n",
              "      <th>income</th>\n",
              "      <td>object</td>\n",
              "    </tr>\n",
              "    <tr>\n",
              "      <th>car</th>\n",
              "      <td>object</td>\n",
              "    </tr>\n",
              "    <tr>\n",
              "      <th>Bar</th>\n",
              "      <td>object</td>\n",
              "    </tr>\n",
              "    <tr>\n",
              "      <th>CoffeeHouse</th>\n",
              "      <td>object</td>\n",
              "    </tr>\n",
              "    <tr>\n",
              "      <th>CarryAway</th>\n",
              "      <td>object</td>\n",
              "    </tr>\n",
              "    <tr>\n",
              "      <th>RestaurantLessThan20</th>\n",
              "      <td>object</td>\n",
              "    </tr>\n",
              "    <tr>\n",
              "      <th>Restaurant20To50</th>\n",
              "      <td>object</td>\n",
              "    </tr>\n",
              "    <tr>\n",
              "      <th>toCoupon_GEQ5min</th>\n",
              "      <td>int64</td>\n",
              "    </tr>\n",
              "    <tr>\n",
              "      <th>toCoupon_GEQ15min</th>\n",
              "      <td>int64</td>\n",
              "    </tr>\n",
              "    <tr>\n",
              "      <th>toCoupon_GEQ25min</th>\n",
              "      <td>int64</td>\n",
              "    </tr>\n",
              "    <tr>\n",
              "      <th>direction_same</th>\n",
              "      <td>int64</td>\n",
              "    </tr>\n",
              "    <tr>\n",
              "      <th>direction_opp</th>\n",
              "      <td>int64</td>\n",
              "    </tr>\n",
              "    <tr>\n",
              "      <th>Y</th>\n",
              "      <td>int64</td>\n",
              "    </tr>\n",
              "  </tbody>\n",
              "</table>\n",
              "</div><br><label><b>dtype:</b> object</label>"
            ]
          },
          "metadata": {},
          "execution_count": 7
        }
      ]
    },
    {
      "cell_type": "code",
      "execution_count": 4,
      "metadata": {
        "id": "7QJ_f1ROqklF",
        "outputId": "ccefe86b-47af-4586-ecd4-7115bb499e21",
        "colab": {
          "base_uri": "https://localhost:8080/"
        }
      },
      "outputs": [
        {
          "output_type": "stream",
          "name": "stdout",
          "text": [
            "0.9914853358561968\n"
          ]
        }
      ],
      "source": [
        "data['car'].unique()\n",
        "null_car_ratio = data['car'].isna().sum() / len(data['car'])\n",
        "print(null_car_ratio)"
      ]
    },
    {
      "cell_type": "markdown",
      "metadata": {
        "id": "bSdVSpYB_qRH"
      },
      "source": [
        "3. Decide what to do about your missing data -- drop, replace, other..."
      ]
    },
    {
      "cell_type": "code",
      "source": [
        "# We will conver the age column to numeric\n",
        "data['age'] = pd.to_numeric(data['age'], errors='coerce')\n"
      ],
      "metadata": {
        "id": "5iJ4TeHjBVM_"
      },
      "execution_count": 5,
      "outputs": []
    },
    {
      "cell_type": "code",
      "source": [
        "# Creating an income ranges columns and mapping ingeters to the ranges.\n",
        "\n",
        "# Define income ranges and corresponding integers\n",
        "income_ranges = {'$37500 - $49999':4, '$62500 - $74999':6, '$12500 - $24999':2,\n",
        "       '$75000 - $87499':7, '$50000 - $62499':5, '$25000 - $37499':3,\n",
        "       '$100000 or More':9, '$87500 - $99999':8, 'Less than $12500':1}\n",
        "\n",
        "# Applying the 'map' to our income column\n",
        "data['income_ranges'] = data['income'].map(income_ranges)\n",
        "\n",
        "# Checking the changes\n",
        "data[['income', 'income_ranges']]"
      ],
      "metadata": {
        "colab": {
          "base_uri": "https://localhost:8080/",
          "height": 424
        },
        "id": "7ehLcselDHGz",
        "outputId": "6086dc07-c644-4a48-e717-76d80d87f8cb"
      },
      "execution_count": 6,
      "outputs": [
        {
          "output_type": "execute_result",
          "data": {
            "text/plain": [
              "                income  income_ranges\n",
              "0      $37500 - $49999              4\n",
              "1      $37500 - $49999              4\n",
              "2      $37500 - $49999              4\n",
              "3      $37500 - $49999              4\n",
              "4      $37500 - $49999              4\n",
              "...                ...            ...\n",
              "12679  $75000 - $87499              7\n",
              "12680  $75000 - $87499              7\n",
              "12681  $75000 - $87499              7\n",
              "12682  $75000 - $87499              7\n",
              "12683  $75000 - $87499              7\n",
              "\n",
              "[12684 rows x 2 columns]"
            ],
            "text/html": [
              "\n",
              "  <div id=\"df-1ac0ce88-9c84-4652-acac-8c73149d5a7a\" class=\"colab-df-container\">\n",
              "    <div>\n",
              "<style scoped>\n",
              "    .dataframe tbody tr th:only-of-type {\n",
              "        vertical-align: middle;\n",
              "    }\n",
              "\n",
              "    .dataframe tbody tr th {\n",
              "        vertical-align: top;\n",
              "    }\n",
              "\n",
              "    .dataframe thead th {\n",
              "        text-align: right;\n",
              "    }\n",
              "</style>\n",
              "<table border=\"1\" class=\"dataframe\">\n",
              "  <thead>\n",
              "    <tr style=\"text-align: right;\">\n",
              "      <th></th>\n",
              "      <th>income</th>\n",
              "      <th>income_ranges</th>\n",
              "    </tr>\n",
              "  </thead>\n",
              "  <tbody>\n",
              "    <tr>\n",
              "      <th>0</th>\n",
              "      <td>$37500 - $49999</td>\n",
              "      <td>4</td>\n",
              "    </tr>\n",
              "    <tr>\n",
              "      <th>1</th>\n",
              "      <td>$37500 - $49999</td>\n",
              "      <td>4</td>\n",
              "    </tr>\n",
              "    <tr>\n",
              "      <th>2</th>\n",
              "      <td>$37500 - $49999</td>\n",
              "      <td>4</td>\n",
              "    </tr>\n",
              "    <tr>\n",
              "      <th>3</th>\n",
              "      <td>$37500 - $49999</td>\n",
              "      <td>4</td>\n",
              "    </tr>\n",
              "    <tr>\n",
              "      <th>4</th>\n",
              "      <td>$37500 - $49999</td>\n",
              "      <td>4</td>\n",
              "    </tr>\n",
              "    <tr>\n",
              "      <th>...</th>\n",
              "      <td>...</td>\n",
              "      <td>...</td>\n",
              "    </tr>\n",
              "    <tr>\n",
              "      <th>12679</th>\n",
              "      <td>$75000 - $87499</td>\n",
              "      <td>7</td>\n",
              "    </tr>\n",
              "    <tr>\n",
              "      <th>12680</th>\n",
              "      <td>$75000 - $87499</td>\n",
              "      <td>7</td>\n",
              "    </tr>\n",
              "    <tr>\n",
              "      <th>12681</th>\n",
              "      <td>$75000 - $87499</td>\n",
              "      <td>7</td>\n",
              "    </tr>\n",
              "    <tr>\n",
              "      <th>12682</th>\n",
              "      <td>$75000 - $87499</td>\n",
              "      <td>7</td>\n",
              "    </tr>\n",
              "    <tr>\n",
              "      <th>12683</th>\n",
              "      <td>$75000 - $87499</td>\n",
              "      <td>7</td>\n",
              "    </tr>\n",
              "  </tbody>\n",
              "</table>\n",
              "<p>12684 rows × 2 columns</p>\n",
              "</div>\n",
              "    <div class=\"colab-df-buttons\">\n",
              "\n",
              "  <div class=\"colab-df-container\">\n",
              "    <button class=\"colab-df-convert\" onclick=\"convertToInteractive('df-1ac0ce88-9c84-4652-acac-8c73149d5a7a')\"\n",
              "            title=\"Convert this dataframe to an interactive table.\"\n",
              "            style=\"display:none;\">\n",
              "\n",
              "  <svg xmlns=\"http://www.w3.org/2000/svg\" height=\"24px\" viewBox=\"0 -960 960 960\">\n",
              "    <path d=\"M120-120v-720h720v720H120Zm60-500h600v-160H180v160Zm220 220h160v-160H400v160Zm0 220h160v-160H400v160ZM180-400h160v-160H180v160Zm440 0h160v-160H620v160ZM180-180h160v-160H180v160Zm440 0h160v-160H620v160Z\"/>\n",
              "  </svg>\n",
              "    </button>\n",
              "\n",
              "  <style>\n",
              "    .colab-df-container {\n",
              "      display:flex;\n",
              "      gap: 12px;\n",
              "    }\n",
              "\n",
              "    .colab-df-convert {\n",
              "      background-color: #E8F0FE;\n",
              "      border: none;\n",
              "      border-radius: 50%;\n",
              "      cursor: pointer;\n",
              "      display: none;\n",
              "      fill: #1967D2;\n",
              "      height: 32px;\n",
              "      padding: 0 0 0 0;\n",
              "      width: 32px;\n",
              "    }\n",
              "\n",
              "    .colab-df-convert:hover {\n",
              "      background-color: #E2EBFA;\n",
              "      box-shadow: 0px 1px 2px rgba(60, 64, 67, 0.3), 0px 1px 3px 1px rgba(60, 64, 67, 0.15);\n",
              "      fill: #174EA6;\n",
              "    }\n",
              "\n",
              "    .colab-df-buttons div {\n",
              "      margin-bottom: 4px;\n",
              "    }\n",
              "\n",
              "    [theme=dark] .colab-df-convert {\n",
              "      background-color: #3B4455;\n",
              "      fill: #D2E3FC;\n",
              "    }\n",
              "\n",
              "    [theme=dark] .colab-df-convert:hover {\n",
              "      background-color: #434B5C;\n",
              "      box-shadow: 0px 1px 3px 1px rgba(0, 0, 0, 0.15);\n",
              "      filter: drop-shadow(0px 1px 2px rgba(0, 0, 0, 0.3));\n",
              "      fill: #FFFFFF;\n",
              "    }\n",
              "  </style>\n",
              "\n",
              "    <script>\n",
              "      const buttonEl =\n",
              "        document.querySelector('#df-1ac0ce88-9c84-4652-acac-8c73149d5a7a button.colab-df-convert');\n",
              "      buttonEl.style.display =\n",
              "        google.colab.kernel.accessAllowed ? 'block' : 'none';\n",
              "\n",
              "      async function convertToInteractive(key) {\n",
              "        const element = document.querySelector('#df-1ac0ce88-9c84-4652-acac-8c73149d5a7a');\n",
              "        const dataTable =\n",
              "          await google.colab.kernel.invokeFunction('convertToInteractive',\n",
              "                                                    [key], {});\n",
              "        if (!dataTable) return;\n",
              "\n",
              "        const docLinkHtml = 'Like what you see? Visit the ' +\n",
              "          '<a target=\"_blank\" href=https://colab.research.google.com/notebooks/data_table.ipynb>data table notebook</a>'\n",
              "          + ' to learn more about interactive tables.';\n",
              "        element.innerHTML = '';\n",
              "        dataTable['output_type'] = 'display_data';\n",
              "        await google.colab.output.renderOutput(dataTable, element);\n",
              "        const docLink = document.createElement('div');\n",
              "        docLink.innerHTML = docLinkHtml;\n",
              "        element.appendChild(docLink);\n",
              "      }\n",
              "    </script>\n",
              "  </div>\n",
              "\n",
              "\n",
              "<div id=\"df-5319f433-ea09-4c76-8fd7-55a126011d1c\">\n",
              "  <button class=\"colab-df-quickchart\" onclick=\"quickchart('df-5319f433-ea09-4c76-8fd7-55a126011d1c')\"\n",
              "            title=\"Suggest charts\"\n",
              "            style=\"display:none;\">\n",
              "\n",
              "<svg xmlns=\"http://www.w3.org/2000/svg\" height=\"24px\"viewBox=\"0 0 24 24\"\n",
              "     width=\"24px\">\n",
              "    <g>\n",
              "        <path d=\"M19 3H5c-1.1 0-2 .9-2 2v14c0 1.1.9 2 2 2h14c1.1 0 2-.9 2-2V5c0-1.1-.9-2-2-2zM9 17H7v-7h2v7zm4 0h-2V7h2v10zm4 0h-2v-4h2v4z\"/>\n",
              "    </g>\n",
              "</svg>\n",
              "  </button>\n",
              "\n",
              "<style>\n",
              "  .colab-df-quickchart {\n",
              "      --bg-color: #E8F0FE;\n",
              "      --fill-color: #1967D2;\n",
              "      --hover-bg-color: #E2EBFA;\n",
              "      --hover-fill-color: #174EA6;\n",
              "      --disabled-fill-color: #AAA;\n",
              "      --disabled-bg-color: #DDD;\n",
              "  }\n",
              "\n",
              "  [theme=dark] .colab-df-quickchart {\n",
              "      --bg-color: #3B4455;\n",
              "      --fill-color: #D2E3FC;\n",
              "      --hover-bg-color: #434B5C;\n",
              "      --hover-fill-color: #FFFFFF;\n",
              "      --disabled-bg-color: #3B4455;\n",
              "      --disabled-fill-color: #666;\n",
              "  }\n",
              "\n",
              "  .colab-df-quickchart {\n",
              "    background-color: var(--bg-color);\n",
              "    border: none;\n",
              "    border-radius: 50%;\n",
              "    cursor: pointer;\n",
              "    display: none;\n",
              "    fill: var(--fill-color);\n",
              "    height: 32px;\n",
              "    padding: 0;\n",
              "    width: 32px;\n",
              "  }\n",
              "\n",
              "  .colab-df-quickchart:hover {\n",
              "    background-color: var(--hover-bg-color);\n",
              "    box-shadow: 0 1px 2px rgba(60, 64, 67, 0.3), 0 1px 3px 1px rgba(60, 64, 67, 0.15);\n",
              "    fill: var(--button-hover-fill-color);\n",
              "  }\n",
              "\n",
              "  .colab-df-quickchart-complete:disabled,\n",
              "  .colab-df-quickchart-complete:disabled:hover {\n",
              "    background-color: var(--disabled-bg-color);\n",
              "    fill: var(--disabled-fill-color);\n",
              "    box-shadow: none;\n",
              "  }\n",
              "\n",
              "  .colab-df-spinner {\n",
              "    border: 2px solid var(--fill-color);\n",
              "    border-color: transparent;\n",
              "    border-bottom-color: var(--fill-color);\n",
              "    animation:\n",
              "      spin 1s steps(1) infinite;\n",
              "  }\n",
              "\n",
              "  @keyframes spin {\n",
              "    0% {\n",
              "      border-color: transparent;\n",
              "      border-bottom-color: var(--fill-color);\n",
              "      border-left-color: var(--fill-color);\n",
              "    }\n",
              "    20% {\n",
              "      border-color: transparent;\n",
              "      border-left-color: var(--fill-color);\n",
              "      border-top-color: var(--fill-color);\n",
              "    }\n",
              "    30% {\n",
              "      border-color: transparent;\n",
              "      border-left-color: var(--fill-color);\n",
              "      border-top-color: var(--fill-color);\n",
              "      border-right-color: var(--fill-color);\n",
              "    }\n",
              "    40% {\n",
              "      border-color: transparent;\n",
              "      border-right-color: var(--fill-color);\n",
              "      border-top-color: var(--fill-color);\n",
              "    }\n",
              "    60% {\n",
              "      border-color: transparent;\n",
              "      border-right-color: var(--fill-color);\n",
              "    }\n",
              "    80% {\n",
              "      border-color: transparent;\n",
              "      border-right-color: var(--fill-color);\n",
              "      border-bottom-color: var(--fill-color);\n",
              "    }\n",
              "    90% {\n",
              "      border-color: transparent;\n",
              "      border-bottom-color: var(--fill-color);\n",
              "    }\n",
              "  }\n",
              "</style>\n",
              "\n",
              "  <script>\n",
              "    async function quickchart(key) {\n",
              "      const quickchartButtonEl =\n",
              "        document.querySelector('#' + key + ' button');\n",
              "      quickchartButtonEl.disabled = true;  // To prevent multiple clicks.\n",
              "      quickchartButtonEl.classList.add('colab-df-spinner');\n",
              "      try {\n",
              "        const charts = await google.colab.kernel.invokeFunction(\n",
              "            'suggestCharts', [key], {});\n",
              "      } catch (error) {\n",
              "        console.error('Error during call to suggestCharts:', error);\n",
              "      }\n",
              "      quickchartButtonEl.classList.remove('colab-df-spinner');\n",
              "      quickchartButtonEl.classList.add('colab-df-quickchart-complete');\n",
              "    }\n",
              "    (() => {\n",
              "      let quickchartButtonEl =\n",
              "        document.querySelector('#df-5319f433-ea09-4c76-8fd7-55a126011d1c button');\n",
              "      quickchartButtonEl.style.display =\n",
              "        google.colab.kernel.accessAllowed ? 'block' : 'none';\n",
              "    })();\n",
              "  </script>\n",
              "</div>\n",
              "\n",
              "    </div>\n",
              "  </div>\n"
            ],
            "application/vnd.google.colaboratory.intrinsic+json": {
              "type": "dataframe",
              "summary": "{\n  \"name\": \"data[['income', 'income_ranges']]\",\n  \"rows\": 12684,\n  \"fields\": [\n    {\n      \"column\": \"income\",\n      \"properties\": {\n        \"dtype\": \"category\",\n        \"num_unique_values\": 9,\n        \"samples\": [\n          \"$87500 - $99999\",\n          \"$62500 - $74999\",\n          \"$25000 - $37499\"\n        ],\n        \"semantic_type\": \"\",\n        \"description\": \"\"\n      }\n    },\n    {\n      \"column\": \"income_ranges\",\n      \"properties\": {\n        \"dtype\": \"number\",\n        \"std\": 2,\n        \"min\": 1,\n        \"max\": 9,\n        \"num_unique_values\": 9,\n        \"samples\": [\n          8,\n          6,\n          3\n        ],\n        \"semantic_type\": \"\",\n        \"description\": \"\"\n      }\n    }\n  ]\n}"
            }
          },
          "metadata": {},
          "execution_count": 6
        }
      ]
    },
    {
      "cell_type": "code",
      "source": [
        "# Check out age values\n",
        "data['age'].isna().value_counts()"
      ],
      "metadata": {
        "colab": {
          "base_uri": "https://localhost:8080/",
          "height": 178
        },
        "id": "oBifWFOdB0mh",
        "outputId": "f666ebe2-7471-4425-a5ff-e443a0c53139"
      },
      "execution_count": 7,
      "outputs": [
        {
          "output_type": "execute_result",
          "data": {
            "text/plain": [
              "age\n",
              "False    10349\n",
              "True      2335\n",
              "Name: count, dtype: int64"
            ],
            "text/html": [
              "<div>\n",
              "<style scoped>\n",
              "    .dataframe tbody tr th:only-of-type {\n",
              "        vertical-align: middle;\n",
              "    }\n",
              "\n",
              "    .dataframe tbody tr th {\n",
              "        vertical-align: top;\n",
              "    }\n",
              "\n",
              "    .dataframe thead th {\n",
              "        text-align: right;\n",
              "    }\n",
              "</style>\n",
              "<table border=\"1\" class=\"dataframe\">\n",
              "  <thead>\n",
              "    <tr style=\"text-align: right;\">\n",
              "      <th></th>\n",
              "      <th>count</th>\n",
              "    </tr>\n",
              "    <tr>\n",
              "      <th>age</th>\n",
              "      <th></th>\n",
              "    </tr>\n",
              "  </thead>\n",
              "  <tbody>\n",
              "    <tr>\n",
              "      <th>False</th>\n",
              "      <td>10349</td>\n",
              "    </tr>\n",
              "    <tr>\n",
              "      <th>True</th>\n",
              "      <td>2335</td>\n",
              "    </tr>\n",
              "  </tbody>\n",
              "</table>\n",
              "</div><br><label><b>dtype:</b> int64</label>"
            ]
          },
          "metadata": {},
          "execution_count": 7
        }
      ]
    },
    {
      "cell_type": "markdown",
      "source": [
        "Dropping the 'car' columns as it is over 99% null values"
      ],
      "metadata": {
        "id": "sT1DxeE602So"
      }
    },
    {
      "cell_type": "code",
      "execution_count": 8,
      "metadata": {
        "id": "tyvoAC5F_qRI"
      },
      "outputs": [],
      "source": [
        "# We will drop the 'car' column as it is almost entirelty null values.\n",
        "data = data.drop(columns = ['car'])"
      ]
    },
    {
      "cell_type": "markdown",
      "metadata": {
        "id": "YE6oJbXd_qRI"
      },
      "source": [
        "4. What proportion of the total observations chose to accept the coupon?\n",
        "\n"
      ]
    },
    {
      "cell_type": "markdown",
      "source": [
        "Here we will group the data by whether or not they accepted the coupon. Then we will divide the number who chose to accept the coupon by the total number of observations."
      ],
      "metadata": {
        "id": "tZENYoCs1_Jl"
      }
    },
    {
      "cell_type": "code",
      "source": [
        "# Grouping by whether or not the coupon was accepted.\n",
        "num_accepted = len(data[data['Y'] == 1])\n",
        "\n",
        "num_total = len(data['Y'])\n",
        "\n",
        "proportion_accepted = num_accepted / num_total * 100\n",
        "\n",
        "proportion_accepted = round(proportion_accepted, 2)\n",
        "\n",
        "print(f'Percentage of total observations who chose to accept coupon: {proportion_accepted}%')"
      ],
      "metadata": {
        "colab": {
          "base_uri": "https://localhost:8080/"
        },
        "id": "FBTocWM72PmV",
        "outputId": "e3e2c360-463f-4951-d494-5bddc2e8ccb5"
      },
      "execution_count": 9,
      "outputs": [
        {
          "output_type": "stream",
          "name": "stdout",
          "text": [
            "Percentage of total observations who chose to accept coupon: 56.84%\n"
          ]
        }
      ]
    },
    {
      "cell_type": "markdown",
      "metadata": {
        "id": "vflz0DoE_qRI"
      },
      "source": [
        "5. Use a bar plot to visualize the `coupon` column."
      ]
    },
    {
      "cell_type": "code",
      "execution_count": 10,
      "metadata": {
        "id": "dHFh3E45_qRI",
        "colab": {
          "base_uri": "https://localhost:8080/",
          "height": 582
        },
        "outputId": "b73e92a1-b4a5-45b6-eec2-344a2cc7a0e6"
      },
      "outputs": [
        {
          "output_type": "execute_result",
          "data": {
            "text/plain": [
              "Text(0, 0.5, 'Number of Coupons')"
            ]
          },
          "metadata": {},
          "execution_count": 10
        },
        {
          "output_type": "display_data",
          "data": {
            "text/plain": [
              "<Figure size 1200x600 with 1 Axes>"
            ],
            "image/png": "[encoded data removed]"
          },
          "metadata": {}
        }
      ],
      "source": [
        "plt.figure(figsize=(12,6))\n",
        "sns.countplot(x='coupon', data=data, hue='coupon', edgecolor = 'black', linewidth = 1.5)\n",
        "plt.title('Distribution of coupon types')\n",
        "plt.xlabel('Coupon Types')\n",
        "plt.ylabel('Number of Coupons')"
      ]
    },
    {
      "cell_type": "markdown",
      "metadata": {
        "id": "Qw4lCyx2_qRI"
      },
      "source": [
        "6. Use a histogram to visualize the temperature column."
      ]
    },
    {
      "cell_type": "code",
      "execution_count": 11,
      "metadata": {
        "id": "Yg9Anv71_qRI",
        "colab": {
          "base_uri": "https://localhost:8080/",
          "height": 547
        },
        "outputId": "f92f6a51-ebb0-454e-a8b1-a9627cd29e89"
      },
      "outputs": [
        {
          "output_type": "execute_result",
          "data": {
            "text/plain": [
              "Text(-3.6805555555555554, 0.5, 'Observation Count')"
            ]
          },
          "metadata": {},
          "execution_count": 11
        },
        {
          "output_type": "display_data",
          "data": {
            "text/plain": [
              "<Figure size 500x500 with 1 Axes>"
            ],
            "image/png": "[encoded data removed]"
          },
          "metadata": {}
        }
      ],
      "source": [
        "sns.displot(x='temperature', data=data, color='green')\n",
        "plt.title('Histogram of Temperature Observations')\n",
        "plt.xlabel('Temperature')\n",
        "plt.ylabel('Observation Count')"
      ]
    },
    {
      "cell_type": "markdown",
      "metadata": {
        "id": "FupfgeJk_qRJ"
      },
      "source": [
        "**Investigating the Bar Coupons**\n",
        "\n",
        "Now, we will lead you through an exploration of just the bar related coupons.  \n",
        "\n",
        "1. Create a new `DataFrame` that contains just the bar coupons.\n"
      ]
    },
    {
      "cell_type": "code",
      "execution_count": 12,
      "metadata": {
        "id": "tMBlWuGq_qRJ"
      },
      "outputs": [],
      "source": [
        "bar_df = data.query('coupon == \"Bar\"')"
      ]
    },
    {
      "cell_type": "markdown",
      "metadata": {
        "id": "8ue6uCqf_qRJ"
      },
      "source": [
        "2. What proportion of bar coupons were accepted?\n"
      ]
    },
    {
      "cell_type": "code",
      "execution_count": 22,
      "metadata": {
        "id": "hSdte8Mi_qRK",
        "colab": {
          "base_uri": "https://localhost:8080/"
        },
        "outputId": "594fccc4-736e-4561-8bc3-bbcecd730349"
      },
      "outputs": [
        {
          "output_type": "stream",
          "name": "stdout",
          "text": [
            "Percentage of bar coupon accepted: 41.0%\n"
          ]
        }
      ],
      "source": [
        "# calculate number of observations\n",
        "bar_accepted = len(bar_df.query('Y == 1'))\n",
        "total_accepted = len(bar_df['Y'])\n",
        "\n",
        "# Calculate proportions\n",
        "prop_bar_accepted = bar_accepted / total_accepted * 100\n",
        "\n",
        "# Round floats\n",
        "prop_bar_accepted = round(prop_bar_accepted, 2)\n",
        "\n",
        "print(f'Percentage of bar coupon accepted: {prop_bar_accepted}%')"
      ]
    },
    {
      "cell_type": "markdown",
      "metadata": {
        "id": "85nA_iEi_qRK"
      },
      "source": [
        "3. Compare the acceptance rate between those who went to a bar 3 or fewer times a month to those who went more.\n"
      ]
    },
    {
      "cell_type": "code",
      "execution_count": 16,
      "metadata": {
        "id": "LBOrN-XM_qRK",
        "colab": {
          "base_uri": "https://localhost:8080/"
        },
        "outputId": "e69668aa-27fb-4b5d-f702-f29557e87764"
      },
      "outputs": [
        {
          "output_type": "stream",
          "name": "stdout",
          "text": [
            "Percentage of acceptance with three or less bar visits: 33.02%\n",
            "Percentage of acceptance with more than three bar visits: 7.59%\n"
          ]
        }
      ],
      "source": [
        "\n",
        "# People who went to the bar three or less time and accpeted the coupon\n",
        "three_or_less = bar_df.query('Bar in [\"never\", \"less1\", \"1~3\"] & Y == 1')\n",
        "\n",
        "# People who went to the bar more than three times and accepted the coupon\n",
        "more_than_three = bar_df.query('Bar in [\"4~8\", \"gt8\"] & Y == 1')\n",
        "\n",
        "# Now lets compute the acceptance rates:\n",
        "three_or_less_accept_rate = (len(three_or_less) / len(bar_df)) * 100\n",
        "\n",
        "more_than_three_accept_rate = (len(more_than_three) / len(bar_df)) * 100\n",
        "\n",
        "# Round the answers to 2 decimal places\n",
        "three_or_less_accept_rate = round(three_or_less_accept_rate, 2)\n",
        "more_than_three_accept_rate = round(more_than_three_accept_rate, 2)\n",
        "\n",
        "# Print out our rates:\n",
        "print(f'Percentage of acceptance with three or less bar visits: {three_or_less_accept_rate}%')\n",
        "print(f'Percentage of acceptance with more than three bar visits: {more_than_three_accept_rate}%')"
      ]
    },
    {
      "cell_type": "markdown",
      "metadata": {
        "id": "RBgcQwH4_qRK"
      },
      "source": [
        "4. Compare the acceptance rate between drivers who go to a bar more than once a month and are over the age of 25 to the all others.  Is there a difference?\n"
      ]
    },
    {
      "cell_type": "code",
      "execution_count": 26,
      "metadata": {
        "id": "bf28bbeX_qRK",
        "colab": {
          "base_uri": "https://localhost:8080/"
        },
        "outputId": "bea5f248-1d65-4fec-e5ab-fd864fff7262"
      },
      "outputs": [
        {
          "output_type": "stream",
          "name": "stdout",
          "text": [
            "Percentage of acceptance for more than 1 visit per month and over 25: 69.97%\n",
            "Percentafe of acceptance for everyone else: 41.0%\n"
          ]
        }
      ],
      "source": [
        "# Sort our DataFrame\n",
        "more_3_over_25 = bar_df.query('Bar in [\"1~3\", \"4~8\", \"gt8\"] & age > 25')\n",
        "\n",
        "# Compute the specfic acceptance rate as a percentage\n",
        "over_25_accept = (len(more_3_over_25[more_3_over_25['Y'] == 1]) / len(more_3_over_25)) * 100\n",
        "\n",
        "# Computer the acceptance rate of all others\n",
        "accept_rate = len(bar_df[bar_df['Y'] == 1]) / len(bar_df) * 100\n",
        "\n",
        "# Round to 2 decimal places\n",
        "accept_rate = round(accept_rate, 2)\n",
        "over_25_accept = round(over_25_accept, 2)\n",
        "\n",
        "# Print out our rates\n",
        "print(f'Percentage of acceptance for more than 1 visit per month and over 25: {over_25_accept}%')\n",
        "print(f'Percentafe of acceptance for everyone else: {accept_rate}%')"
      ]
    },
    {
      "cell_type": "markdown",
      "metadata": {
        "id": "S4RKT4PJ_qRK"
      },
      "source": [
        "5. Use the same process to compare the acceptance rate between drivers who go to bars more than once a month and had passengers that were not a kid and had occupations other than farming, fishing, or forestry.\n"
      ]
    },
    {
      "cell_type": "code",
      "execution_count": 51,
      "metadata": {
        "id": "sENaI2Tg_qRK",
        "colab": {
          "base_uri": "https://localhost:8080/"
        },
        "outputId": "8541d75d-99a4-478f-fe4c-8630f6e35c3c"
      },
      "outputs": [
        {
          "output_type": "stream",
          "name": "stdout",
          "text": [
            "Percentafe of acceptance for drivers who go to bars more than once a month and had passengers \n",
            "that were not a kid and had occupations other than farming, fishing, or forestry: 71.79%\n",
            "Percentafe of acceptance for everyone else: 41.0%\n"
          ]
        }
      ],
      "source": [
        "# Sorting for specific group\n",
        "sort1_df = bar_df.query('Bar in [\"1~3\", \"4~8\", \"gt8\"] & passanger not in [\"Alone\", \"Kid(s)\"] & occupation != \"Farming Fishing & Forestry\"')\n",
        "\n",
        "sort1_df[\"Y\"].value_counts()\n",
        "\n",
        "# Acceptance rate of our specific group\n",
        "sorted_rate = len(sort1_df.query('Y == 1')) / len(sort1_df['Y']) * 100\n",
        "\n",
        "# Computer the acceptance rate of all others\n",
        "accept_rate = len(bar_df[bar_df['Y'] == 1]) / len(bar_df) * 100\n",
        "\n",
        "# round our values\n",
        "sorted_rate = round(sorted_rate, 2)\n",
        "accept_rate = round(accept_rate, 2)\n",
        "\n",
        "print(f'''Percentafe of acceptance for drivers who go to bars more than once a month and had passengers\n",
        "that were not a kid and had occupations other than farming, fishing, or forestry: {sorted_rate}%''')\n",
        "\n",
        "print(f'Percentafe of acceptance for everyone else: {accept_rate}%')"
      ]
    },
    {
      "cell_type": "markdown",
      "metadata": {
        "id": "n2LIUTil_qRK"
      },
      "source": [
        "6. Compare the acceptance rates between those drivers who:\n",
        "\n",
        "- go to bars more than once a month, had passengers that were not a kid, and were not widowed *OR*\n",
        "- go to bars more than once a month and are under the age of 30 *OR*\n",
        "- go to cheap restaurants more than 4 times a month and income is less than 50K.\n",
        "\n"
      ]
    },
    {
      "cell_type": "code",
      "execution_count": 14,
      "metadata": {
        "id": "aK_wEzx7_qRK",
        "colab": {
          "base_uri": "https://localhost:8080/"
        },
        "outputId": "6c5dc0b7-fa73-4f90-8660-c02fbb8d6536"
      },
      "outputs": [
        {
          "output_type": "stream",
          "name": "stdout",
          "text": [
            "Acceptance rate of drivers who go to bars more than once a month, had passengers that were not a kid, and were not widowed: 71.79%\n",
            "Acceptance rate of drivers who go to bars more than once a month and are under the age of 30: 73.13%\n",
            "Acceptance rate of drivers who go to cheap restaurants more than 4 times a month and income is less than 50K: 60.07%\n"
          ]
        }
      ],
      "source": [
        "# Sort our differnt groups\n",
        "group1 = bar_df.query('Bar in [\"1~3\", \"4~8\", \"gt8\"] & passanger not in [\"Alone\", \"Kid(s)\"] & maritalStatus != \"Widowed\"')\n",
        "group2 = bar_df.query('Bar in [\"1~3\", \"4~8\", \"gt8\"] & age < 30')\n",
        "group3 = data.query('RestaurantLessThan20 in [\"4~8\", \"gt8\"] and income_ranges < 5')\n",
        "\n",
        "# Calculating the acceptance rates\n",
        "group1_rate = len(group1.query('Y == 1')) / len(group1['Y']) * 100\n",
        "group2_rate = len(group2.query('Y == 1')) / len(group2['Y']) * 100\n",
        "group3_rate = len(group3.query('Y == 1')) / len(group3['Y']) * 100\n",
        "\n",
        "# Rounding to 2 decimal places\n",
        "group1_rate = round(group1_rate, 2)\n",
        "group2_rate = round(group2_rate, 2)\n",
        "group3_rate = round(group3_rate, 2)\n",
        "\n",
        "# Printing statements:\n",
        "print(f'Acceptance rate of drivers who go to bars more than once a month, had passengers that were not a kid, and were not widowed: {group1_rate}%')\n",
        "print(f'Acceptance rate of drivers who go to bars more than once a month and are under the age of 30: {group2_rate}%')\n",
        "print(f'Acceptance rate of drivers who go to cheap restaurants more than 4 times a month and income is less than 50K: {group3_rate}%')"
      ]
    },
    {
      "cell_type": "markdown",
      "metadata": {
        "id": "v3fL3QkO_qRK"
      },
      "source": [
        "7.  Based on these observations, what do you hypothesize about drivers who accepted the bar coupons?"
      ]
    },
    {
      "cell_type": "markdown",
      "source": [
        "###Based on the following observations, we are able to make a couple of hypothesies about the drivers who chose to accept the bar coupons.\n",
        "\n",
        "1. That they were over the age of 25. Our tests showed that when we sorted for drivers over the age of 25, our proportion of coupon acceptance rose.\n",
        "2. That the passangers in the car matter, specifically whether or not they were kids. Our tests showed that when drivers had kids in the car, there acceptance rates went down by a significant amount.\n",
        "\n",
        "\n"
      ],
      "metadata": {
        "id": "nlZldyh-Hfex"
      }
    },
    {
      "cell_type": "markdown",
      "metadata": {
        "id": "r4Hu1zOb_qRL"
      },
      "source": [
        "### Independent Investigation\n",
        "\n",
        "Using the bar coupon example as motivation, you are to explore one of the other coupon groups and try to determine the characteristics of passengers who accept the coupons.  "
      ]
    },
    {
      "cell_type": "markdown",
      "source": [
        "## Investigation into 'Coffee House' coupon"
      ],
      "metadata": {
        "id": "0geTbuSh7Vx-"
      }
    },
    {
      "cell_type": "code",
      "execution_count": 14,
      "metadata": {
        "id": "0c71cQhu_qRL",
        "colab": {
          "base_uri": "https://localhost:8080/"
        },
        "outputId": "7cf2372d-6973-4a83-886c-19068ec68476"
      },
      "outputs": [
        {
          "output_type": "execute_result",
          "data": {
            "text/plain": [
              "(3996, 26)"
            ]
          },
          "metadata": {},
          "execution_count": 14
        }
      ],
      "source": [
        "# Sort our DataFrame to just the Coffee House coupons\n",
        "cof_df = data.query('coupon == \"Coffee House\"')\n",
        "cof_df.shape"
      ]
    },
    {
      "cell_type": "code",
      "execution_count": 15,
      "metadata": {
        "id": "QEsBkvIN_qRL",
        "colab": {
          "base_uri": "https://localhost:8080/"
        },
        "outputId": "5ee5e834-2f78-40a7-f233-9842f1b536ab"
      },
      "outputs": [
        {
          "output_type": "stream",
          "name": "stdout",
          "text": [
            "Percentage of coupon acceptance for coffee shop coupons: 49.92%\n"
          ]
        }
      ],
      "source": [
        "# Look at the percentage of coupon acceptance\n",
        "Y1_num = cof_df.shape[0]\n",
        "Y0_num = cof_df.query('Y == 1').shape[0]\n",
        "\n",
        "# Calculate proportion\n",
        "cof_prop = round((Y0_num / Y1_num * 100), 2)\n",
        "\n",
        "# Percentage of coupon acceptance for coffee shop coupons\n",
        "print(f'Percentage of coupon acceptance for coffee shop coupons: {cof_prop}%')"
      ]
    },
    {
      "cell_type": "code",
      "execution_count": 31,
      "metadata": {
        "id": "fTC2WGE3_qRL",
        "colab": {
          "base_uri": "https://localhost:8080/"
        },
        "outputId": "45a7958c-84aa-40eb-8f84-df71321d1cc2"
      },
      "outputs": [
        {
          "output_type": "stream",
          "name": "stdout",
          "text": [
            "29.471049457177322\n",
            "29.639259708737864\n",
            "29.80952380952381\n"
          ]
        }
      ],
      "source": [
        "# Lets look at how age is effecting coffee shop coupon acceptance.\n",
        "print(cof_df.query('Y == 1')['age'].mean())\n",
        "print(cof_df['age'].mean())\n",
        "print(cof_df.query('Y == 0')['age'].mean())"
      ]
    },
    {
      "cell_type": "markdown",
      "source": [
        "####The above code cell indicates that there is not a statstically significant differance in age between those who chose to accept the coffee coupon and those who did not. In fact, the average ages of those who accepted, and did not accept was almost identical."
      ],
      "metadata": {
        "id": "VISd8cLl_uXw"
      }
    },
    {
      "cell_type": "code",
      "execution_count": 16,
      "metadata": {
        "id": "RrqUWn7d_qRL",
        "colab": {
          "base_uri": "https://localhost:8080/",
          "height": 542
        },
        "outputId": "52a351c2-37dd-4468-ac5d-a5c98a04a517"
      },
      "outputs": [
        {
          "output_type": "display_data",
          "data": {
            "text/html": [
              "<html>\n",
              "<head><meta charset=\"utf-8\" /></head>\n",
              "<body>\n",
              "    <div>            <script src=\"https://cdnjs.cloudflare.com/ajax/libs/mathjax/2.7.5/MathJax.js?config=TeX-AMS-MML_SVG\"></script><script type=\"text/javascript\">if (window.MathJax && window.MathJax.Hub && window.MathJax.Hub.Config) {window.MathJax.Hub.Config({SVG: {font: \"STIX-Web\"}});}</script>                <script type=\"text/javascript\">window.PlotlyConfig = {MathJaxConfig: 'local'};</script>\n",
              "        <script charset=\"utf-8\" src=\"https://cdn.plot.ly/plotly-2.35.2.min.js\"></script>                <div id=\"57ea985c-53e9-4436-80da-34f6facd526a\" class=\"plotly-graph-div\" style=\"height:525px; width:100%;\"></div>            <script type=\"text/javascript\">                                    window.PLOTLYENV=window.PLOTLYENV || {};                                    if (document.getElementById(\"57ea985c-53e9-4436-80da-34f6facd526a\")) {                    Plotly.newPlot(                        \"57ea985c-53e9-4436-80da-34f6facd526a\",                        [{\"alignmentgroup\":\"True\",\"bingroup\":\"x\",\"hovertemplate\":\"Y=0\\u003cbr\\u003eoccupation=%{x}\\u003cbr\\u003ecount=%{y}\\u003cextra\\u003e\\u003c\\u002fextra\\u003e\",\"legendgroup\":\"0\",\"marker\":{\"color\":\"#636efa\",\"pattern\":{\"shape\":\"\"}},\"name\":\"0\",\"offsetgroup\":\"0\",\"orientation\":\"v\",\"showlegend\":true,\"x\":[\"Unemployed\",\"Unemployed\",\"Unemployed\",\"Unemployed\",\"Architecture & Engineering\",\"Architecture & Engineering\",\"Architecture & Engineering\",\"Architecture & Engineering\",\"Architecture & Engineering\",\"Architecture & Engineering\",\"Architecture & Engineering\",\"Architecture & Engineering\",\"Architecture & Engineering\",\"Architecture & Engineering\",\"Student\",\"Student\",\"Student\",\"Student\",\"Student\",\"Education&Training&Library\",\"Education&Training&Library\",\"Education&Training&Library\",\"Student\",\"Student\",\"Student\",\"Student\",\"Student\",\"Unemployed\",\"Unemployed\",\"Unemployed\",\"Unemployed\",\"Healthcare Support\",\"Healthcare Support\",\"Healthcare Support\",\"Healthcare Support\",\"Healthcare Support\",\"Healthcare Support\",\"Healthcare Support\",\"Healthcare Support\",\"Sales & Related\",\"Sales & Related\",\"Sales & Related\",\"Sales & Related\",\"Sales & Related\",\"Sales & Related\",\"Sales & Related\",\"Sales & Related\",\"Sales & Related\",\"Sales & Related\",\"Management\",\"Management\",\"Unemployed\",\"Unemployed\",\"Unemployed\",\"Unemployed\",\"Unemployed\",\"Unemployed\",\"Unemployed\",\"Unemployed\",\"Unemployed\",\"Education&Training&Library\",\"Education&Training&Library\",\"Education&Training&Library\",\"Education&Training&Library\",\"Education&Training&Library\",\"Education&Training&Library\",\"Student\",\"Student\",\"Student\",\"Computer & Mathematical\",\"Computer & Mathematical\",\"Computer & Mathematical\",\"Computer & Mathematical\",\"Life Physical Social Science\",\"Life Physical Social Science\",\"Life Physical Social Science\",\"Life Physical Social Science\",\"Student\",\"Student\",\"Student\",\"Student\",\"Student\",\"Student\",\"Student\",\"Student\",\"Student\",\"Student\",\"Personal Care & Service\",\"Personal Care & Service\",\"Personal Care & Service\",\"Personal Care & Service\",\"Computer & Mathematical\",\"Computer & Mathematical\",\"Computer & Mathematical\",\"Computer & Mathematical\",\"Computer & Mathematical\",\"Computer & Mathematical\",\"Management\",\"Management\",\"Management\",\"Unemployed\",\"Community & Social Services\",\"Community & Social Services\",\"Community & Social Services\",\"Community & Social Services\",\"Community & Social Services\",\"Community & Social Services\",\"Community & Social Services\",\"Management\",\"Management\",\"Sales & Related\",\"Sales & Related\",\"Sales & Related\",\"Arts Design Entertainment Sports & Media\",\"Arts Design Entertainment Sports & Media\",\"Arts Design Entertainment Sports & Media\",\"Arts Design Entertainment Sports & Media\",\"Arts Design Entertainment Sports & Media\",\"Arts Design Entertainment Sports & Media\",\"Arts Design Entertainment Sports & Media\",\"Office & Administrative Support\",\"Office & Administrative Support\",\"Office & Administrative Support\",\"Office & Administrative Support\",\"Office & Administrative Support\",\"Office & Administrative Support\",\"Office & Administrative Support\",\"Office & Administrative Support\",\"Office & Administrative Support\",\"Office & Administrative Support\",\"Student\",\"Office & Administrative Support\",\"Office & Administrative Support\",\"Office & Administrative Support\",\"Office & Administrative Support\",\"Office & Administrative Support\",\"Construction & Extraction\",\"Construction & Extraction\",\"Construction & Extraction\",\"Construction & Extraction\",\"Construction & Extraction\",\"Construction & Extraction\",\"Construction & Extraction\",\"Construction & Extraction\",\"Management\",\"Management\",\"Management\",\"Management\",\"Management\",\"Management\",\"Education&Training&Library\",\"Education&Training&Library\",\"Education&Training&Library\",\"Education&Training&Library\",\"Education&Training&Library\",\"Education&Training&Library\",\"Education&Training&Library\",\"Education&Training&Library\",\"Sales & Related\",\"Sales & Related\",\"Sales & Related\",\"Sales & Related\",\"Sales & Related\",\"Healthcare Support\",\"Legal\",\"Legal\",\"Legal\",\"Sales & Related\",\"Sales & Related\",\"Sales & Related\",\"Sales & Related\",\"Sales & Related\",\"Sales & Related\",\"Computer & Mathematical\",\"Retired\",\"Retired\",\"Retired\",\"Retired\",\"Retired\",\"Community & Social Services\",\"Community & Social Services\",\"Community & Social Services\",\"Community & Social Services\",\"Community & Social Services\",\"Office & Administrative Support\",\"Office & Administrative Support\",\"Office & Administrative Support\",\"Office & Administrative Support\",\"Life Physical Social Science\",\"Life Physical Social Science\",\"Life Physical Social Science\",\"Life Physical Social Science\",\"Architecture & Engineering\",\"Architecture & Engineering\",\"Architecture & Engineering\",\"Healthcare Practitioners & Technical\",\"Healthcare Practitioners & Technical\",\"Healthcare Practitioners & Technical\",\"Arts Design Entertainment Sports & Media\",\"Arts Design Entertainment Sports & Media\",\"Arts Design Entertainment Sports & Media\",\"Arts Design Entertainment Sports & Media\",\"Arts Design Entertainment Sports & Media\",\"Arts Design Entertainment Sports & Media\",\"Retired\",\"Retired\",\"Retired\",\"Retired\",\"Retired\",\"Retired\",\"Retired\",\"Retired\",\"Retired\",\"Retired\",\"Retired\",\"Retired\",\"Retired\",\"Retired\",\"Retired\",\"Office & Administrative Support\",\"Office & Administrative Support\",\"Office & Administrative Support\",\"Office & Administrative Support\",\"Office & Administrative Support\",\"Arts Design Entertainment Sports & Media\",\"Arts Design Entertainment Sports & Media\",\"Arts Design Entertainment Sports & Media\",\"Arts Design Entertainment Sports & Media\",\"Arts Design Entertainment Sports & Media\",\"Arts Design Entertainment Sports & Media\",\"Unemployed\",\"Unemployed\",\"Unemployed\",\"Unemployed\",\"Unemployed\",\"Unemployed\",\"Unemployed\",\"Computer & Mathematical\",\"Computer & Mathematical\",\"Computer & Mathematical\",\"Computer & Mathematical\",\"Computer & Mathematical\",\"Computer & Mathematical\",\"Computer & Mathematical\",\"Computer & Mathematical\",\"Computer & Mathematical\",\"Computer & Mathematical\",\"Computer & Mathematical\",\"Computer & Mathematical\",\"Sales & Related\",\"Sales & Related\",\"Sales & Related\",\"Sales & Related\",\"Sales & Related\",\"Sales & Related\",\"Sales & Related\",\"Student\",\"Student\",\"Student\",\"Sales & Related\",\"Sales & Related\",\"Sales & Related\",\"Sales & Related\",\"Sales & Related\",\"Construction & Extraction\",\"Construction & Extraction\",\"Construction & Extraction\",\"Construction & Extraction\",\"Construction & Extraction\",\"Construction & Extraction\",\"Construction & Extraction\",\"Construction & Extraction\",\"Retired\",\"Retired\",\"Retired\",\"Retired\",\"Retired\",\"Retired\",\"Retired\",\"Student\",\"Sales & Related\",\"Sales & Related\",\"Sales & Related\",\"Sales & Related\",\"Sales & Related\",\"Sales & Related\",\"Sales & Related\",\"Sales & Related\",\"Retired\",\"Retired\",\"Retired\",\"Retired\",\"Retired\",\"Education&Training&Library\",\"Education&Training&Library\",\"Education&Training&Library\",\"Education&Training&Library\",\"Education&Training&Library\",\"Sales & Related\",\"Sales & Related\",\"Sales & Related\",\"Sales & Related\",\"Sales & Related\",\"Sales & Related\",\"Sales & Related\",\"Sales & Related\",\"Sales & Related\",\"Sales & Related\",\"Management\",\"Management\",\"Management\",\"Retired\",\"Retired\",\"Legal\",\"Legal\",\"Legal\",\"Legal\",\"Legal\",\"Arts Design Entertainment Sports & Media\",\"Arts Design Entertainment Sports & Media\",\"Arts Design Entertainment Sports & Media\",\"Arts Design Entertainment Sports & Media\",\"Arts Design Entertainment Sports & Media\",\"Arts Design Entertainment Sports & Media\",\"Computer & Mathematical\",\"Computer & Mathematical\",\"Computer & Mathematical\",\"Computer & Mathematical\",\"Computer & Mathematical\",\"Computer & Mathematical\",\"Computer & Mathematical\",\"Computer & Mathematical\",\"Computer & Mathematical\",\"Computer & Mathematical\",\"Architecture & Engineering\",\"Architecture & Engineering\",\"Architecture & Engineering\",\"Architecture & Engineering\",\"Unemployed\",\"Unemployed\",\"Personal Care & Service\",\"Personal Care & Service\",\"Personal Care & Service\",\"Personal Care & Service\",\"Personal Care & Service\",\"Personal Care & Service\",\"Personal Care & Service\",\"Management\",\"Management\",\"Management\",\"Management\",\"Unemployed\",\"Unemployed\",\"Unemployed\",\"Unemployed\",\"Unemployed\",\"Computer & Mathematical\",\"Computer & Mathematical\",\"Computer & Mathematical\",\"Computer & Mathematical\",\"Computer & Mathematical\",\"Computer & Mathematical\",\"Computer & Mathematical\",\"Computer & Mathematical\",\"Education&Training&Library\",\"Education&Training&Library\",\"Student\",\"Student\",\"Student\",\"Student\",\"Unemployed\",\"Retired\",\"Retired\",\"Retired\",\"Retired\",\"Retired\",\"Architecture & Engineering\",\"Architecture & Engineering\",\"Architecture & Engineering\",\"Architecture & Engineering\",\"Student\",\"Student\",\"Unemployed\",\"Unemployed\",\"Unemployed\",\"Unemployed\",\"Transportation & Material Moving\",\"Transportation & Material Moving\",\"Education&Training&Library\",\"Education&Training&Library\",\"Education&Training&Library\",\"Education&Training&Library\",\"Education&Training&Library\",\"Education&Training&Library\",\"Management\",\"Management\",\"Management\",\"Management\",\"Management\",\"Management\",\"Management\",\"Management\",\"Legal\",\"Legal\",\"Legal\",\"Legal\",\"Legal\",\"Legal\",\"Legal\",\"Management\",\"Management\",\"Management\",\"Management\",\"Arts Design Entertainment Sports & Media\",\"Arts Design Entertainment Sports & Media\",\"Arts Design Entertainment Sports & Media\",\"Arts Design Entertainment Sports & Media\",\"Student\",\"Student\",\"Student\",\"Student\",\"Unemployed\",\"Unemployed\",\"Life Physical Social Science\",\"Life Physical Social Science\",\"Life Physical Social Science\",\"Business & Financial\",\"Student\",\"Student\",\"Sales & Related\",\"Sales & Related\",\"Sales & Related\",\"Sales & Related\",\"Sales & Related\",\"Sales & Related\",\"Sales & Related\",\"Sales & Related\",\"Protective Service\",\"Protective Service\",\"Protective Service\",\"Protective Service\",\"Protective Service\",\"Protective Service\",\"Management\",\"Management\",\"Management\",\"Management\",\"Management\",\"Management\",\"Management\",\"Computer & Mathematical\",\"Computer & Mathematical\",\"Computer & Mathematical\",\"Computer & Mathematical\",\"Computer & Mathematical\",\"Computer & Mathematical\",\"Computer & Mathematical\",\"Computer & Mathematical\",\"Computer & Mathematical\",\"Computer & Mathematical\",\"Office & Administrative Support\",\"Office & Administrative Support\",\"Office & Administrative Support\",\"Office & Administrative Support\",\"Computer & Mathematical\",\"Computer & Mathematical\",\"Sales & Related\",\"Sales & Related\",\"Sales & Related\",\"Sales & Related\",\"Sales & Related\",\"Sales & Related\",\"Sales & Related\",\"Sales & Related\",\"Education&Training&Library\",\"Education&Training&Library\",\"Education&Training&Library\",\"Education&Training&Library\",\"Education&Training&Library\",\"Management\",\"Management\",\"Management\",\"Management\",\"Management\",\"Management\",\"Management\",\"Management\",\"Management\",\"Management\",\"Computer & Mathematical\",\"Computer & Mathematical\",\"Computer & Mathematical\",\"Transportation & Material Moving\",\"Transportation & Material Moving\",\"Transportation & Material Moving\",\"Transportation & Material Moving\",\"Transportation & Material Moving\",\"Transportation & Material Moving\",\"Transportation & Material Moving\",\"Arts Design Entertainment Sports & Media\",\"Arts Design Entertainment Sports & Media\",\"Management\",\"Management\",\"Unemployed\",\"Unemployed\",\"Unemployed\",\"Management\",\"Management\",\"Management\",\"Management\",\"Management\",\"Management\",\"Management\",\"Management\",\"Student\",\"Management\",\"Education&Training&Library\",\"Education&Training&Library\",\"Education&Training&Library\",\"Education&Training&Library\",\"Education&Training&Library\",\"Education&Training&Library\",\"Office & Administrative Support\",\"Office & Administrative Support\",\"Office & Administrative Support\",\"Legal\",\"Legal\",\"Legal\",\"Management\",\"Management\",\"Management\",\"Management\",\"Management\",\"Management\",\"Management\",\"Architecture & Engineering\",\"Transportation & Material Moving\",\"Education&Training&Library\",\"Education&Training&Library\",\"Education&Training&Library\",\"Education&Training&Library\",\"Computer & Mathematical\",\"Computer & Mathematical\",\"Computer & Mathematical\",\"Computer & Mathematical\",\"Computer & Mathematical\",\"Computer & Mathematical\",\"Computer & Mathematical\",\"Sales & Related\",\"Sales & Related\",\"Sales & Related\",\"Sales & Related\",\"Sales & Related\",\"Sales & Related\",\"Sales & Related\",\"Sales & Related\",\"Sales & Related\",\"Sales & Related\",\"Education&Training&Library\",\"Education&Training&Library\",\"Education&Training&Library\",\"Education&Training&Library\",\"Education&Training&Library\",\"Education&Training&Library\",\"Education&Training&Library\",\"Unemployed\",\"Unemployed\",\"Student\",\"Life Physical Social Science\",\"Life Physical Social Science\",\"Life Physical Social Science\",\"Life Physical Social Science\",\"Life Physical Social Science\",\"Life Physical Social Science\",\"Life Physical Social Science\",\"Student\",\"Student\",\"Student\",\"Student\",\"Student\",\"Student\",\"Student\",\"Business & Financial\",\"Education&Training&Library\",\"Education&Training&Library\",\"Education&Training&Library\",\"Computer & Mathematical\",\"Business & Financial\",\"Business & Financial\",\"Business & Financial\",\"Business & Financial\",\"Computer & Mathematical\",\"Computer & Mathematical\",\"Computer & Mathematical\",\"Computer & Mathematical\",\"Computer & Mathematical\",\"Computer & Mathematical\",\"Computer & Mathematical\",\"Computer & Mathematical\",\"Protective Service\",\"Protective Service\",\"Protective Service\",\"Protective Service\",\"Protective Service\",\"Protective Service\",\"Food Preparation & Serving Related\",\"Food Preparation & Serving Related\",\"Food Preparation & Serving Related\",\"Food Preparation & Serving Related\",\"Food Preparation & Serving Related\",\"Food Preparation & Serving Related\",\"Food Preparation & Serving Related\",\"Student\",\"Student\",\"Student\",\"Student\",\"Student\",\"Student\",\"Student\",\"Student\",\"Student\",\"Student\",\"Computer & Mathematical\",\"Computer & Mathematical\",\"Computer & Mathematical\",\"Unemployed\",\"Unemployed\",\"Unemployed\",\"Unemployed\",\"Unemployed\",\"Unemployed\",\"Unemployed\",\"Unemployed\",\"Computer & Mathematical\",\"Installation Maintenance & Repair\",\"Installation Maintenance & Repair\",\"Installation Maintenance & Repair\",\"Installation Maintenance & Repair\",\"Installation Maintenance & Repair\",\"Installation Maintenance & Repair\",\"Installation Maintenance & Repair\",\"Installation Maintenance & Repair\",\"Installation Maintenance & Repair\",\"Installation Maintenance & Repair\",\"Unemployed\",\"Management\",\"Management\",\"Management\",\"Management\",\"Retired\",\"Retired\",\"Retired\",\"Retired\",\"Retired\",\"Retired\",\"Retired\",\"Retired\",\"Arts Design Entertainment Sports & Media\",\"Arts Design Entertainment Sports & Media\",\"Arts Design Entertainment Sports & Media\",\"Arts Design Entertainment Sports & Media\",\"Arts Design Entertainment Sports & Media\",\"Arts Design Entertainment Sports & Media\",\"Business & Financial\",\"Business & Financial\",\"Business & Financial\",\"Business & Financial\",\"Business & Financial\",\"Business & Financial\",\"Unemployed\",\"Unemployed\",\"Unemployed\",\"Computer & Mathematical\",\"Computer & Mathematical\",\"Computer & Mathematical\",\"Computer & Mathematical\",\"Student\",\"Student\",\"Student\",\"Student\",\"Student\",\"Student\",\"Life Physical Social Science\",\"Life Physical Social Science\",\"Life Physical Social Science\",\"Life Physical Social Science\",\"Business & Financial\",\"Business & Financial\",\"Business & Financial\",\"Business & Financial\",\"Business & Financial\",\"Business & Financial\",\"Computer & Mathematical\",\"Sales & Related\",\"Sales & Related\",\"Sales & Related\",\"Protective Service\",\"Protective Service\",\"Protective Service\",\"Protective Service\",\"Protective Service\",\"Arts Design Entertainment Sports & Media\",\"Arts Design Entertainment Sports & Media\",\"Office & Administrative Support\",\"Office & Administrative Support\",\"Office & Administrative Support\",\"Office & Administrative Support\",\"Student\",\"Student\",\"Student\",\"Student\",\"Student\",\"Unemployed\",\"Unemployed\",\"Unemployed\",\"Unemployed\",\"Unemployed\",\"Unemployed\",\"Protective Service\",\"Protective Service\",\"Protective Service\",\"Protective Service\",\"Student\",\"Student\",\"Student\",\"Student\",\"Arts Design Entertainment Sports & Media\",\"Arts Design Entertainment Sports & Media\",\"Arts Design Entertainment Sports & Media\",\"Arts Design Entertainment Sports & Media\",\"Arts Design Entertainment Sports & Media\",\"Management\",\"Management\",\"Retired\",\"Retired\",\"Retired\",\"Retired\",\"Retired\",\"Retired\",\"Retired\",\"Retired\",\"Retired\",\"Student\",\"Sales & Related\",\"Life Physical Social Science\",\"Life Physical Social Science\",\"Life Physical Social Science\",\"Business & Financial\",\"Business & Financial\",\"Sales & Related\",\"Sales & Related\",\"Sales & Related\",\"Sales & Related\",\"Sales & Related\",\"Sales & Related\",\"Food Preparation & Serving Related\",\"Management\",\"Management\",\"Management\",\"Management\",\"Food Preparation & Serving Related\",\"Food Preparation & Serving Related\",\"Food Preparation & Serving Related\",\"Education&Training&Library\",\"Education&Training&Library\",\"Education&Training&Library\",\"Education&Training&Library\",\"Education&Training&Library\",\"Education&Training&Library\",\"Education&Training&Library\",\"Education&Training&Library\",\"Arts Design Entertainment Sports & Media\",\"Arts Design Entertainment Sports & Media\",\"Arts Design Entertainment Sports & Media\",\"Arts Design Entertainment Sports & Media\",\"Arts Design Entertainment Sports & Media\",\"Arts Design Entertainment Sports & Media\",\"Sales & Related\",\"Sales & Related\",\"Sales & Related\",\"Sales & Related\",\"Sales & Related\",\"Sales & Related\",\"Sales & Related\",\"Sales & Related\",\"Sales & Related\",\"Sales & Related\",\"Healthcare Practitioners & Technical\",\"Healthcare Practitioners & Technical\",\"Healthcare Practitioners & Technical\",\"Computer & Mathematical\",\"Computer & Mathematical\",\"Computer & Mathematical\",\"Computer & Mathematical\",\"Computer & Mathematical\",\"Computer & Mathematical\",\"Computer & Mathematical\",\"Computer & Mathematical\",\"Computer & Mathematical\",\"Computer & Mathematical\",\"Arts Design Entertainment Sports & Media\",\"Arts Design Entertainment Sports & Media\",\"Arts Design Entertainment Sports & Media\",\"Arts Design Entertainment Sports & Media\",\"Arts Design Entertainment Sports & Media\",\"Arts Design Entertainment Sports & Media\",\"Arts Design Entertainment Sports & Media\",\"Arts Design Entertainment Sports & Media\",\"Arts Design Entertainment Sports & Media\",\"Arts Design Entertainment Sports & Media\",\"Computer & Mathematical\",\"Computer & Mathematical\",\"Computer & Mathematical\",\"Computer & Mathematical\",\"Computer & Mathematical\",\"Arts Design Entertainment Sports & Media\",\"Arts Design Entertainment Sports & Media\",\"Business & Financial\",\"Business & Financial\",\"Business & Financial\",\"Business & Financial\",\"Business & Financial\",\"Business & Financial\",\"Business & Financial\",\"Business & Financial\",\"Business & Financial\",\"Business & Financial\",\"Education&Training&Library\",\"Education&Training&Library\",\"Education&Training&Library\",\"Management\",\"Management\",\"Sales & Related\",\"Sales & Related\",\"Sales & Related\",\"Sales & Related\",\"Sales & Related\",\"Sales & Related\",\"Sales & Related\",\"Sales & Related\",\"Sales & Related\",\"Sales & Related\",\"Sales & Related\",\"Computer & Mathematical\",\"Computer & Mathematical\",\"Computer & Mathematical\",\"Computer & Mathematical\",\"Computer & Mathematical\",\"Computer & Mathematical\",\"Computer & Mathematical\",\"Computer & Mathematical\",\"Computer & Mathematical\",\"Computer & Mathematical\",\"Student\",\"Student\",\"Student\",\"Student\",\"Student\",\"Student\",\"Student\",\"Student\",\"Student\",\"Student\",\"Computer & Mathematical\",\"Computer & Mathematical\",\"Computer & Mathematical\",\"Computer & Mathematical\",\"Computer & Mathematical\",\"Computer & Mathematical\",\"Computer & Mathematical\",\"Computer & Mathematical\",\"Computer & Mathematical\",\"Computer & Mathematical\",\"Unemployed\",\"Unemployed\",\"Unemployed\",\"Unemployed\",\"Unemployed\",\"Unemployed\",\"Unemployed\",\"Unemployed\",\"Unemployed\",\"Unemployed\",\"Unemployed\",\"Unemployed\",\"Unemployed\",\"Unemployed\",\"Unemployed\",\"Unemployed\",\"Unemployed\",\"Unemployed\",\"Computer & Mathematical\",\"Computer & Mathematical\",\"Computer & Mathematical\",\"Computer & Mathematical\",\"Computer & Mathematical\",\"Computer & Mathematical\",\"Student\",\"Student\",\"Student\",\"Student\",\"Student\",\"Education&Training&Library\",\"Education&Training&Library\",\"Education&Training&Library\",\"Education&Training&Library\",\"Education&Training&Library\",\"Education&Training&Library\",\"Education&Training&Library\",\"Education&Training&Library\",\"Education&Training&Library\",\"Protective Service\",\"Protective Service\",\"Protective Service\",\"Protective Service\",\"Protective Service\",\"Protective Service\",\"Sales & Related\",\"Sales & Related\",\"Sales & Related\",\"Sales & Related\",\"Sales & Related\",\"Sales & Related\",\"Sales & Related\",\"Sales & Related\",\"Unemployed\",\"Unemployed\",\"Unemployed\",\"Unemployed\",\"Unemployed\",\"Unemployed\",\"Unemployed\",\"Unemployed\",\"Unemployed\",\"Unemployed\",\"Unemployed\",\"Student\",\"Student\",\"Student\",\"Student\",\"Student\",\"Life Physical Social Science\",\"Life Physical Social Science\",\"Life Physical Social Science\",\"Life Physical Social Science\",\"Life Physical Social Science\",\"Life Physical Social Science\",\"Computer & Mathematical\",\"Computer & Mathematical\",\"Computer & Mathematical\",\"Computer & Mathematical\",\"Computer & Mathematical\",\"Computer & Mathematical\",\"Computer & Mathematical\",\"Computer & Mathematical\",\"Computer & Mathematical\",\"Computer & Mathematical\",\"Computer & Mathematical\",\"Student\",\"Education&Training&Library\",\"Education&Training&Library\",\"Education&Training&Library\",\"Education&Training&Library\",\"Education&Training&Library\",\"Education&Training&Library\",\"Education&Training&Library\",\"Education&Training&Library\",\"Unemployed\",\"Unemployed\",\"Legal\",\"Legal\",\"Legal\",\"Personal Care & Service\",\"Personal Care & Service\",\"Personal Care & Service\",\"Personal Care & Service\",\"Personal Care & Service\",\"Personal Care & Service\",\"Office & Administrative Support\",\"Office & Administrative Support\",\"Office & Administrative Support\",\"Office & Administrative Support\",\"Education&Training&Library\",\"Education&Training&Library\",\"Education&Training&Library\",\"Education&Training&Library\",\"Education&Training&Library\",\"Education&Training&Library\",\"Education&Training&Library\",\"Education&Training&Library\",\"Education&Training&Library\",\"Education&Training&Library\",\"Education&Training&Library\",\"Education&Training&Library\",\"Education&Training&Library\",\"Student\",\"Student\",\"Sales & Related\",\"Sales & Related\",\"Sales & Related\",\"Sales & Related\",\"Student\",\"Student\",\"Student\",\"Student\",\"Community & Social Services\",\"Community & Social Services\",\"Community & Social Services\",\"Community & Social Services\",\"Community & Social Services\",\"Community & Social Services\",\"Community & Social Services\",\"Community & Social Services\",\"Community & Social Services\",\"Student\",\"Student\",\"Student\",\"Student\",\"Student\",\"Retired\",\"Retired\",\"Retired\",\"Retired\",\"Retired\",\"Retired\",\"Retired\",\"Retired\",\"Unemployed\",\"Unemployed\",\"Unemployed\",\"Unemployed\",\"Unemployed\",\"Unemployed\",\"Unemployed\",\"Student\",\"Student\",\"Student\",\"Student\",\"Community & Social Services\",\"Sales & Related\",\"Sales & Related\",\"Sales & Related\",\"Sales & Related\",\"Management\",\"Management\",\"Management\",\"Management\",\"Management\",\"Management\",\"Arts Design Entertainment Sports & Media\",\"Food Preparation & Serving Related\",\"Food Preparation & Serving Related\",\"Food Preparation & Serving Related\",\"Food Preparation & Serving Related\",\"Food Preparation & Serving Related\",\"Food Preparation & Serving Related\",\"Food Preparation & Serving Related\",\"Food Preparation & Serving Related\",\"Food Preparation & Serving Related\",\"Food Preparation & Serving Related\",\"Production Occupations\",\"Production Occupations\",\"Production Occupations\",\"Production Occupations\",\"Production Occupations\",\"Production Occupations\",\"Production Occupations\",\"Production Occupations\",\"Sales & Related\",\"Sales & Related\",\"Unemployed\",\"Unemployed\",\"Unemployed\",\"Unemployed\",\"Unemployed\",\"Unemployed\",\"Unemployed\",\"Unemployed\",\"Unemployed\",\"Unemployed\",\"Unemployed\",\"Unemployed\",\"Unemployed\",\"Unemployed\",\"Unemployed\",\"Unemployed\",\"Unemployed\",\"Unemployed\",\"Unemployed\",\"Student\",\"Student\",\"Student\",\"Student\",\"Student\",\"Student\",\"Student\",\"Student\",\"Student\",\"Student\",\"Student\",\"Student\",\"Student\",\"Student\",\"Arts Design Entertainment Sports & Media\",\"Arts Design Entertainment Sports & Media\",\"Arts Design Entertainment Sports & Media\",\"Education&Training&Library\",\"Education&Training&Library\",\"Education&Training&Library\",\"Education&Training&Library\",\"Education&Training&Library\",\"Education&Training&Library\",\"Education&Training&Library\",\"Education&Training&Library\",\"Management\",\"Management\",\"Management\",\"Management\",\"Management\",\"Management\",\"Management\",\"Management\",\"Management\",\"Management\",\"Education&Training&Library\",\"Education&Training&Library\",\"Education&Training&Library\",\"Education&Training&Library\",\"Education&Training&Library\",\"Legal\",\"Legal\",\"Legal\",\"Legal\",\"Legal\",\"Legal\",\"Legal\",\"Legal\",\"Legal\",\"Legal\",\"Legal\",\"Retired\",\"Transportation & Material Moving\",\"Transportation & Material Moving\",\"Transportation & Material Moving\",\"Transportation & Material Moving\",\"Business & Financial\",\"Business & Financial\",\"Business & Financial\",\"Business & Financial\",\"Business & Financial\",\"Business & Financial\",\"Business & Financial\",\"Business & Financial\",\"Business & Financial\",\"Business & Financial\",\"Business & Financial\",\"Student\",\"Student\",\"Student\",\"Office & Administrative Support\",\"Office & Administrative Support\",\"Office & Administrative Support\",\"Office & Administrative Support\",\"Office & Administrative Support\",\"Office & Administrative Support\",\"Office & Administrative Support\",\"Office & Administrative Support\",\"Business & Financial\",\"Business & Financial\",\"Business & Financial\",\"Education&Training&Library\",\"Education&Training&Library\",\"Education&Training&Library\",\"Education&Training&Library\",\"Education&Training&Library\",\"Education&Training&Library\",\"Personal Care & Service\",\"Personal Care & Service\",\"Personal Care & Service\",\"Unemployed\",\"Unemployed\",\"Unemployed\",\"Unemployed\",\"Unemployed\",\"Unemployed\",\"Sales & Related\",\"Sales & Related\",\"Sales & Related\",\"Sales & Related\",\"Sales & Related\",\"Sales & Related\",\"Sales & Related\",\"Business & Financial\",\"Business & Financial\",\"Business & Financial\",\"Business & Financial\",\"Business & Financial\",\"Business & Financial\",\"Business & Financial\",\"Business & Financial\",\"Education&Training&Library\",\"Education&Training&Library\",\"Education&Training&Library\",\"Education&Training&Library\",\"Education&Training&Library\",\"Education&Training&Library\",\"Education&Training&Library\",\"Education&Training&Library\",\"Education&Training&Library\",\"Education&Training&Library\",\"Education&Training&Library\",\"Management\",\"Management\",\"Management\",\"Management\",\"Management\",\"Management\",\"Management\",\"Education&Training&Library\",\"Transportation & Material Moving\",\"Transportation & Material Moving\",\"Transportation & Material Moving\",\"Transportation & Material Moving\",\"Transportation & Material Moving\",\"Transportation & Material Moving\",\"Transportation & Material Moving\",\"Transportation & Material Moving\",\"Student\",\"Student\",\"Management\",\"Management\",\"Management\",\"Education&Training&Library\",\"Education&Training&Library\",\"Production Occupations\",\"Production Occupations\",\"Production Occupations\",\"Production Occupations\",\"Production Occupations\",\"Production Occupations\",\"Production Occupations\",\"Student\",\"Unemployed\",\"Student\",\"Student\",\"Student\",\"Student\",\"Computer & Mathematical\",\"Sales & Related\",\"Sales & Related\",\"Sales & Related\",\"Sales & Related\",\"Sales & Related\",\"Management\",\"Management\",\"Management\",\"Management\",\"Management\",\"Management\",\"Management\",\"Management\",\"Management\",\"Management\",\"Management\",\"Architecture & Engineering\",\"Architecture & Engineering\",\"Architecture & Engineering\",\"Architecture & Engineering\",\"Arts Design Entertainment Sports & Media\",\"Arts Design Entertainment Sports & Media\",\"Community & Social Services\",\"Community & Social Services\",\"Community & Social Services\",\"Community & Social Services\",\"Community & Social Services\",\"Community & Social Services\",\"Community & Social Services\",\"Community & Social Services\",\"Community & Social Services\",\"Community & Social Services\",\"Management\",\"Management\",\"Management\",\"Management\",\"Management\",\"Management\",\"Management\",\"Management\",\"Management\",\"Management\",\"Unemployed\",\"Unemployed\",\"Unemployed\",\"Unemployed\",\"Unemployed\",\"Unemployed\",\"Unemployed\",\"Unemployed\",\"Unemployed\",\"Unemployed\",\"Unemployed\",\"Unemployed\",\"Sales & Related\",\"Sales & Related\",\"Retired\",\"Retired\",\"Retired\",\"Retired\",\"Retired\",\"Retired\",\"Unemployed\",\"Unemployed\",\"Unemployed\",\"Management\",\"Management\",\"Management\",\"Unemployed\",\"Unemployed\",\"Unemployed\",\"Unemployed\",\"Unemployed\",\"Food Preparation & Serving Related\",\"Food Preparation & Serving Related\",\"Food Preparation & Serving Related\",\"Food Preparation & Serving Related\",\"Food Preparation & Serving Related\",\"Food Preparation & Serving Related\",\"Food Preparation & Serving Related\",\"Food Preparation & Serving Related\",\"Food Preparation & Serving Related\",\"Food Preparation & Serving Related\",\"Food Preparation & Serving Related\",\"Computer & Mathematical\",\"Computer & Mathematical\",\"Computer & Mathematical\",\"Computer & Mathematical\",\"Computer & Mathematical\",\"Computer & Mathematical\",\"Computer & Mathematical\",\"Computer & Mathematical\",\"Computer & Mathematical\",\"Computer & Mathematical\",\"Computer & Mathematical\",\"Retired\",\"Retired\",\"Retired\",\"Sales & Related\",\"Sales & Related\",\"Sales & Related\",\"Sales & Related\",\"Sales & Related\",\"Computer & Mathematical\",\"Computer & Mathematical\",\"Computer & Mathematical\",\"Computer & Mathematical\",\"Arts Design Entertainment Sports & Media\",\"Arts Design Entertainment Sports & Media\",\"Arts Design Entertainment Sports & Media\",\"Arts Design Entertainment Sports & Media\",\"Arts Design Entertainment Sports & Media\",\"Arts Design Entertainment Sports & Media\",\"Arts Design Entertainment Sports & Media\",\"Arts Design Entertainment Sports & Media\",\"Computer & Mathematical\",\"Computer & Mathematical\",\"Computer & Mathematical\",\"Computer & Mathematical\",\"Computer & Mathematical\",\"Computer & Mathematical\",\"Computer & Mathematical\",\"Computer & Mathematical\",\"Computer & Mathematical\",\"Computer & Mathematical\",\"Computer & Mathematical\",\"Computer & Mathematical\",\"Student\",\"Student\",\"Student\",\"Student\",\"Student\",\"Student\",\"Student\",\"Management\",\"Management\",\"Management\",\"Management\",\"Management\",\"Management\",\"Unemployed\",\"Unemployed\",\"Unemployed\",\"Unemployed\",\"Unemployed\",\"Office & Administrative Support\",\"Office & Administrative Support\",\"Office & Administrative Support\",\"Office & Administrative Support\",\"Office & Administrative Support\",\"Office & Administrative Support\",\"Office & Administrative Support\",\"Office & Administrative Support\",\"Unemployed\",\"Sales & Related\",\"Sales & Related\",\"Sales & Related\",\"Sales & Related\",\"Sales & Related\",\"Sales & Related\",\"Sales & Related\",\"Sales & Related\",\"Student\",\"Community & Social Services\",\"Community & Social Services\",\"Office & Administrative Support\",\"Office & Administrative Support\",\"Office & Administrative Support\",\"Office & Administrative Support\",\"Office & Administrative Support\",\"Office & Administrative Support\",\"Office & Administrative Support\",\"Office & Administrative Support\",\"Management\",\"Management\",\"Management\",\"Management\",\"Management\",\"Sales & Related\",\"Sales & Related\",\"Sales & Related\",\"Sales & Related\",\"Sales & Related\",\"Sales & Related\",\"Sales & Related\",\"Sales & Related\",\"Sales & Related\",\"Business & Financial\",\"Business & Financial\",\"Transportation & Material Moving\",\"Student\",\"Student\",\"Student\",\"Unemployed\",\"Unemployed\",\"Unemployed\",\"Unemployed\",\"Unemployed\",\"Unemployed\",\"Unemployed\",\"Unemployed\",\"Unemployed\",\"Unemployed\",\"Arts Design Entertainment Sports & Media\",\"Arts Design Entertainment Sports & Media\",\"Arts Design Entertainment Sports & Media\",\"Unemployed\",\"Unemployed\",\"Unemployed\",\"Unemployed\",\"Unemployed\",\"Unemployed\",\"Unemployed\",\"Unemployed\",\"Unemployed\",\"Unemployed\",\"Unemployed\",\"Unemployed\",\"Business & Financial\",\"Computer & Mathematical\",\"Computer & Mathematical\",\"Computer & Mathematical\",\"Computer & Mathematical\",\"Computer & Mathematical\",\"Education&Training&Library\",\"Education&Training&Library\",\"Retired\",\"Retired\",\"Building & Grounds Cleaning & Maintenance\",\"Building & Grounds Cleaning & Maintenance\",\"Transportation & Material Moving\",\"Transportation & Material Moving\",\"Education&Training&Library\",\"Education&Training&Library\",\"Education&Training&Library\",\"Education&Training&Library\",\"Personal Care & Service\",\"Personal Care & Service\",\"Personal Care & Service\",\"Construction & Extraction\",\"Construction & Extraction\",\"Construction & Extraction\",\"Construction & Extraction\",\"Arts Design Entertainment Sports & Media\",\"Unemployed\",\"Unemployed\",\"Unemployed\",\"Unemployed\",\"Unemployed\",\"Sales & Related\",\"Sales & Related\",\"Sales & Related\",\"Sales & Related\",\"Sales & Related\",\"Sales & Related\",\"Office & Administrative Support\",\"Office & Administrative Support\",\"Office & Administrative Support\",\"Office & Administrative Support\",\"Office & Administrative Support\",\"Office & Administrative Support\",\"Office & Administrative Support\",\"Building & Grounds Cleaning & Maintenance\",\"Education&Training&Library\",\"Student\",\"Management\",\"Management\",\"Computer & Mathematical\",\"Computer & Mathematical\",\"Computer & Mathematical\",\"Sales & Related\",\"Sales & Related\",\"Sales & Related\",\"Life Physical Social Science\",\"Unemployed\",\"Unemployed\",\"Unemployed\",\"Unemployed\",\"Unemployed\",\"Unemployed\",\"Healthcare Practitioners & Technical\",\"Healthcare Practitioners & Technical\",\"Healthcare Practitioners & Technical\",\"Healthcare Practitioners & Technical\",\"Arts Design Entertainment Sports & Media\",\"Healthcare Support\",\"Healthcare Support\",\"Healthcare Support\",\"Healthcare Support\",\"Healthcare Support\",\"Transportation & Material Moving\",\"Transportation & Material Moving\",\"Transportation & Material Moving\",\"Retired\",\"Retired\",\"Retired\",\"Construction & Extraction\",\"Construction & Extraction\",\"Retired\",\"Retired\",\"Retired\",\"Retired\",\"Unemployed\",\"Unemployed\",\"Unemployed\",\"Unemployed\",\"Sales & Related\",\"Sales & Related\",\"Sales & Related\",\"Sales & Related\",\"Business & Financial\",\"Business & Financial\",\"Business & Financial\",\"Business & Financial\",\"Business & Financial\",\"Unemployed\",\"Management\",\"Management\",\"Management\",\"Management\",\"Unemployed\",\"Unemployed\",\"Computer & Mathematical\",\"Computer & Mathematical\",\"Computer & Mathematical\",\"Computer & Mathematical\",\"Computer & Mathematical\",\"Computer & Mathematical\",\"Computer & Mathematical\",\"Business & Financial\",\"Management\",\"Management\",\"Management\",\"Management\",\"Management\",\"Management\",\"Unemployed\",\"Unemployed\",\"Unemployed\",\"Management\",\"Management\",\"Management\",\"Management\",\"Management\",\"Education&Training&Library\",\"Education&Training&Library\",\"Education&Training&Library\",\"Education&Training&Library\",\"Office & Administrative Support\",\"Office & Administrative Support\",\"Office & Administrative Support\",\"Office & Administrative Support\",\"Office & Administrative Support\",\"Office & Administrative Support\",\"Office & Administrative Support\",\"Unemployed\",\"Unemployed\",\"Unemployed\",\"Construction & Extraction\",\"Construction & Extraction\",\"Installation Maintenance & Repair\",\"Installation Maintenance & Repair\",\"Installation Maintenance & Repair\",\"Installation Maintenance & Repair\",\"Installation Maintenance & Repair\",\"Installation Maintenance & Repair\",\"Installation Maintenance & Repair\",\"Installation Maintenance & Repair\",\"Installation Maintenance & Repair\",\"Healthcare Practitioners & Technical\",\"Healthcare Practitioners & Technical\",\"Healthcare Practitioners & Technical\",\"Healthcare Practitioners & Technical\",\"Healthcare Practitioners & Technical\",\"Computer & Mathematical\",\"Computer & Mathematical\",\"Architecture & Engineering\",\"Architecture & Engineering\",\"Computer & Mathematical\",\"Sales & Related\",\"Sales & Related\",\"Sales & Related\",\"Sales & Related\",\"Sales & Related\",\"Sales & Related\",\"Education&Training&Library\",\"Food Preparation & Serving Related\",\"Food Preparation & Serving Related\",\"Food Preparation & Serving Related\",\"Farming Fishing & Forestry\",\"Farming Fishing & Forestry\",\"Farming Fishing & Forestry\",\"Farming Fishing & Forestry\",\"Farming Fishing & Forestry\",\"Personal Care & Service\",\"Business & Financial\",\"Business & Financial\",\"Business & Financial\",\"Management\",\"Student\",\"Student\",\"Unemployed\",\"Unemployed\",\"Unemployed\",\"Unemployed\",\"Unemployed\",\"Education&Training&Library\",\"Education&Training&Library\",\"Education&Training&Library\",\"Education&Training&Library\",\"Office & Administrative Support\",\"Office & Administrative Support\",\"Office & Administrative Support\",\"Office & Administrative Support\",\"Unemployed\",\"Arts Design Entertainment Sports & Media\",\"Arts Design Entertainment Sports & Media\",\"Arts Design Entertainment Sports & Media\",\"Business & Financial\",\"Business & Financial\",\"Arts Design Entertainment Sports & Media\",\"Arts Design Entertainment Sports & Media\",\"Arts Design Entertainment Sports & Media\",\"Arts Design Entertainment Sports & Media\",\"Arts Design Entertainment Sports & Media\",\"Arts Design Entertainment Sports & Media\",\"Business & Financial\",\"Business & Financial\",\"Business & Financial\",\"Education&Training&Library\",\"Education&Training&Library\",\"Education&Training&Library\",\"Education&Training&Library\",\"Education&Training&Library\",\"Education&Training&Library\",\"Computer & Mathematical\",\"Computer & Mathematical\",\"Computer & Mathematical\",\"Computer & Mathematical\",\"Arts Design Entertainment Sports & Media\",\"Computer & Mathematical\",\"Healthcare Support\",\"Management\",\"Unemployed\",\"Transportation & Material Moving\",\"Computer & Mathematical\",\"Computer & Mathematical\",\"Sales & Related\",\"Sales & Related\",\"Sales & Related\",\"Sales & Related\",\"Sales & Related\",\"Sales & Related\",\"Student\",\"Student\",\"Office & Administrative Support\",\"Legal\",\"Legal\",\"Legal\",\"Legal\",\"Sales & Related\",\"Sales & Related\",\"Sales & Related\",\"Sales & Related\",\"Sales & Related\",\"Office & Administrative Support\",\"Office & Administrative Support\",\"Office & Administrative Support\",\"Office & Administrative Support\",\"Office & Administrative Support\",\"Computer & Mathematical\",\"Computer & Mathematical\",\"Computer & Mathematical\",\"Computer & Mathematical\",\"Healthcare Support\",\"Healthcare Support\",\"Healthcare Support\",\"Office & Administrative Support\",\"Office & Administrative Support\",\"Retired\",\"Retired\",\"Retired\",\"Retired\",\"Unemployed\",\"Unemployed\",\"Unemployed\",\"Unemployed\",\"Retired\",\"Retired\",\"Computer & Mathematical\",\"Computer & Mathematical\",\"Computer & Mathematical\",\"Computer & Mathematical\",\"Computer & Mathematical\",\"Computer & Mathematical\",\"Computer & Mathematical\",\"Computer & Mathematical\",\"Computer & Mathematical\",\"Computer & Mathematical\",\"Community & Social Services\",\"Community & Social Services\",\"Community & Social Services\",\"Community & Social Services\",\"Community & Social Services\",\"Production Occupations\",\"Student\",\"Production Occupations\",\"Production Occupations\",\"Unemployed\",\"Education&Training&Library\",\"Education&Training&Library\",\"Office & Administrative Support\",\"Office & Administrative Support\",\"Office & Administrative Support\",\"Office & Administrative Support\",\"Sales & Related\",\"Sales & Related\",\"Sales & Related\",\"Sales & Related\",\"Office & Administrative Support\",\"Office & Administrative Support\",\"Office & Administrative Support\",\"Computer & Mathematical\",\"Student\",\"Student\",\"Student\",\"Office & Administrative Support\",\"Community & Social Services\",\"Community & Social Services\",\"Community & Social Services\",\"Community & Social Services\",\"Community & Social Services\",\"Community & Social Services\",\"Unemployed\",\"Unemployed\",\"Unemployed\",\"Arts Design Entertainment Sports & Media\",\"Arts Design Entertainment Sports & Media\",\"Office & Administrative Support\",\"Office & Administrative Support\",\"Office & Administrative Support\",\"Office & Administrative Support\",\"Office & Administrative Support\",\"Computer & Mathematical\",\"Computer & Mathematical\",\"Food Preparation & Serving Related\",\"Food Preparation & Serving Related\",\"Food Preparation & Serving Related\",\"Food Preparation & Serving Related\",\"Computer & Mathematical\",\"Computer & Mathematical\",\"Student\",\"Student\",\"Student\",\"Student\",\"Legal\",\"Unemployed\",\"Unemployed\",\"Computer & Mathematical\",\"Computer & Mathematical\",\"Computer & Mathematical\",\"Computer & Mathematical\",\"Computer & Mathematical\",\"Arts Design Entertainment Sports & Media\",\"Office & Administrative Support\",\"Student\",\"Student\",\"Student\",\"Student\",\"Unemployed\",\"Unemployed\",\"Retired\",\"Retired\",\"Retired\",\"Retired\",\"Retired\",\"Unemployed\",\"Arts Design Entertainment Sports & Media\",\"Arts Design Entertainment Sports & Media\",\"Food Preparation & Serving Related\",\"Protective Service\",\"Protective Service\",\"Protective Service\",\"Student\",\"Student\",\"Student\",\"Unemployed\",\"Unemployed\",\"Unemployed\",\"Unemployed\",\"Unemployed\",\"Unemployed\",\"Management\",\"Healthcare Support\",\"Healthcare Support\",\"Healthcare Support\",\"Healthcare Support\",\"Unemployed\",\"Food Preparation & Serving Related\",\"Computer & Mathematical\",\"Legal\",\"Legal\",\"Legal\",\"Sales & Related\",\"Business & Financial\",\"Student\",\"Student\",\"Student\",\"Computer & Mathematical\",\"Computer & Mathematical\",\"Computer & Mathematical\",\"Student\",\"Food Preparation & Serving Related\",\"Food Preparation & Serving Related\",\"Unemployed\",\"Unemployed\",\"Unemployed\",\"Sales & Related\",\"Unemployed\",\"Unemployed\",\"Management\",\"Management\",\"Computer & Mathematical\",\"Computer & Mathematical\",\"Computer & Mathematical\",\"Education&Training&Library\",\"Education&Training&Library\",\"Student\",\"Student\",\"Student\",\"Student\",\"Student\",\"Unemployed\",\"Unemployed\",\"Student\",\"Student\",\"Education&Training&Library\",\"Education&Training&Library\",\"Unemployed\",\"Unemployed\",\"Unemployed\",\"Retired\",\"Retired\",\"Sales & Related\",\"Sales & Related\",\"Sales & Related\",\"Sales & Related\",\"Education&Training&Library\",\"Education&Training&Library\",\"Education&Training&Library\",\"Arts Design Entertainment Sports & Media\",\"Arts Design Entertainment Sports & Media\",\"Student\",\"Student\",\"Healthcare Practitioners & Technical\",\"Healthcare Practitioners & Technical\",\"Student\",\"Student\",\"Business & Financial\",\"Business & Financial\",\"Business & Financial\",\"Student\",\"Sales & Related\",\"Sales & Related\",\"Arts Design Entertainment Sports & Media\",\"Arts Design Entertainment Sports & Media\",\"Arts Design Entertainment Sports & Media\",\"Unemployed\",\"Unemployed\",\"Office & Administrative Support\",\"Office & Administrative Support\",\"Office & Administrative Support\",\"Unemployed\",\"Unemployed\",\"Healthcare Support\",\"Healthcare Practitioners & Technical\",\"Healthcare Practitioners & Technical\",\"Sales & Related\",\"Sales & Related\",\"Unemployed\",\"Unemployed\",\"Unemployed\",\"Student\",\"Student\",\"Computer & Mathematical\",\"Computer & Mathematical\",\"Education&Training&Library\",\"Education&Training&Library\",\"Unemployed\",\"Unemployed\",\"Student\",\"Legal\",\"Legal\",\"Legal\",\"Community & Social Services\",\"Community & Social Services\",\"Community & Social Services\",\"Office & Administrative Support\",\"Unemployed\",\"Unemployed\",\"Unemployed\",\"Unemployed\",\"Unemployed\",\"Arts Design Entertainment Sports & Media\",\"Arts Design Entertainment Sports & Media\",\"Unemployed\",\"Unemployed\",\"Computer & Mathematical\",\"Computer & Mathematical\",\"Healthcare Support\",\"Healthcare Support\",\"Unemployed\",\"Unemployed\",\"Retired\",\"Retired\",\"Unemployed\",\"Unemployed\",\"Unemployed\",\"Computer & Mathematical\",\"Computer & Mathematical\",\"Education&Training&Library\",\"Education&Training&Library\",\"Unemployed\",\"Unemployed\",\"Education&Training&Library\",\"Education&Training&Library\",\"Education&Training&Library\",\"Protective Service\",\"Protective Service\",\"Unemployed\",\"Unemployed\",\"Sales & Related\",\"Office & Administrative Support\",\"Office & Administrative Support\",\"Office & Administrative Support\",\"Sales & Related\",\"Sales & Related\",\"Sales & Related\",\"Food Preparation & Serving Related\",\"Food Preparation & Serving Related\",\"Food Preparation & Serving Related\",\"Office & Administrative Support\",\"Office & Administrative Support\",\"Student\",\"Student\",\"Personal Care & Service\",\"Unemployed\",\"Business & Financial\",\"Business & Financial\",\"Business & Financial\",\"Sales & Related\",\"Sales & Related\",\"Sales & Related\"],\"xaxis\":\"x\",\"yaxis\":\"y\",\"type\":\"histogram\"},{\"alignmentgroup\":\"True\",\"bingroup\":\"x\",\"hovertemplate\":\"Y=1\\u003cbr\\u003eoccupation=%{x}\\u003cbr\\u003ecount=%{y}\\u003cextra\\u003e\\u003c\\u002fextra\\u003e\",\"legendgroup\":\"1\",\"marker\":{\"color\":\"#EF553B\",\"pattern\":{\"shape\":\"\"}},\"name\":\"1\",\"offsetgroup\":\"1\",\"orientation\":\"v\",\"showlegend\":true,\"x\":[\"Unemployed\",\"Unemployed\",\"Unemployed\",\"Student\",\"Student\",\"Student\",\"Student\",\"Student\",\"Education&Training&Library\",\"Education&Training&Library\",\"Education&Training&Library\",\"Education&Training&Library\",\"Student\",\"Student\",\"Student\",\"Student\",\"Student\",\"Student\",\"Student\",\"Student\",\"Student\",\"Student\",\"Student\",\"Student\",\"Student\",\"Student\",\"Student\",\"Unemployed\",\"Unemployed\",\"Unemployed\",\"Healthcare Support\",\"Healthcare Support\",\"Healthcare Practitioners & Technical\",\"Healthcare Practitioners & Technical\",\"Healthcare Practitioners & Technical\",\"Healthcare Practitioners & Technical\",\"Healthcare Practitioners & Technical\",\"Healthcare Practitioners & Technical\",\"Healthcare Practitioners & Technical\",\"Management\",\"Management\",\"Management\",\"Management\",\"Management\",\"Management\",\"Unemployed\",\"Unemployed\",\"Unemployed\",\"Unemployed\",\"Unemployed\",\"Unemployed\",\"Unemployed\",\"Unemployed\",\"Arts Design Entertainment Sports & Media\",\"Arts Design Entertainment Sports & Media\",\"Arts Design Entertainment Sports & Media\",\"Arts Design Entertainment Sports & Media\",\"Arts Design Entertainment Sports & Media\",\"Arts Design Entertainment Sports & Media\",\"Arts Design Entertainment Sports & Media\",\"Education&Training&Library\",\"Student\",\"Student\",\"Student\",\"Student\",\"Student\",\"Computer & Mathematical\",\"Computer & Mathematical\",\"Computer & Mathematical\",\"Life Physical Social Science\",\"Life Physical Social Science\",\"Life Physical Social Science\",\"Personal Care & Service\",\"Personal Care & Service\",\"Personal Care & Service\",\"Personal Care & Service\",\"Computer & Mathematical\",\"Computer & Mathematical\",\"Computer & Mathematical\",\"Computer & Mathematical\",\"Management\",\"Management\",\"Management\",\"Management\",\"Management\",\"Management\",\"Management\",\"Unemployed\",\"Unemployed\",\"Unemployed\",\"Unemployed\",\"Unemployed\",\"Unemployed\",\"Unemployed\",\"Unemployed\",\"Unemployed\",\"Community & Social Services\",\"Management\",\"Management\",\"Sales & Related\",\"Sales & Related\",\"Sales & Related\",\"Sales & Related\",\"Arts Design Entertainment Sports & Media\",\"Arts Design Entertainment Sports & Media\",\"Arts Design Entertainment Sports & Media\",\"Sales & Related\",\"Sales & Related\",\"Sales & Related\",\"Sales & Related\",\"Sales & Related\",\"Sales & Related\",\"Sales & Related\",\"Sales & Related\",\"Sales & Related\",\"Sales & Related\",\"Student\",\"Student\",\"Student\",\"Student\",\"Student\",\"Student\",\"Office & Administrative Support\",\"Office & Administrative Support\",\"Office & Administrative Support\",\"Office & Administrative Support\",\"Office & Administrative Support\",\"Management\",\"Sales & Related\",\"Sales & Related\",\"Sales & Related\",\"Sales & Related\",\"Sales & Related\",\"Healthcare Support\",\"Healthcare Support\",\"Healthcare Support\",\"Healthcare Support\",\"Healthcare Support\",\"Healthcare Support\",\"Healthcare Support\",\"Legal\",\"Legal\",\"Legal\",\"Legal\",\"Legal\",\"Legal\",\"Legal\",\"Sales & Related\",\"Computer & Mathematical\",\"Computer & Mathematical\",\"Computer & Mathematical\",\"Computer & Mathematical\",\"Computer & Mathematical\",\"Retired\",\"Retired\",\"Unemployed\",\"Unemployed\",\"Community & Social Services\",\"Community & Social Services\",\"Community & Social Services\",\"Office & Administrative Support\",\"Office & Administrative Support\",\"Office & Administrative Support\",\"Office & Administrative Support\",\"Office & Administrative Support\",\"Office & Administrative Support\",\"Education&Training&Library\",\"Education&Training&Library\",\"Education&Training&Library\",\"Education&Training&Library\",\"Education&Training&Library\",\"Education&Training&Library\",\"Education&Training&Library\",\"Life Physical Social Science\",\"Life Physical Social Science\",\"Life Physical Social Science\",\"Life Physical Social Science\",\"Life Physical Social Science\",\"Life Physical Social Science\",\"Architecture & Engineering\",\"Architecture & Engineering\",\"Architecture & Engineering\",\"Architecture & Engineering\",\"Architecture & Engineering\",\"Healthcare Practitioners & Technical\",\"Healthcare Practitioners & Technical\",\"Healthcare Practitioners & Technical\",\"Healthcare Practitioners & Technical\",\"Arts Design Entertainment Sports & Media\",\"Retired\",\"Retired\",\"Retired\",\"Office & Administrative Support\",\"Office & Administrative Support\",\"Office & Administrative Support\",\"Arts Design Entertainment Sports & Media\",\"Unemployed\",\"Unemployed\",\"Unemployed\",\"Unemployed\",\"Unemployed\",\"Unemployed\",\"Unemployed\",\"Computer & Mathematical\",\"Computer & Mathematical\",\"Computer & Mathematical\",\"Computer & Mathematical\",\"Computer & Mathematical\",\"Student\",\"Student\",\"Student\",\"Student\",\"Student\",\"Student\",\"Student\",\"Sales & Related\",\"Sales & Related\",\"Sales & Related\",\"Sales & Related\",\"Sales & Related\",\"Construction & Extraction\",\"Construction & Extraction\",\"Retired\",\"Student\",\"Student\",\"Student\",\"Student\",\"Student\",\"Student\",\"Student\",\"Sales & Related\",\"Sales & Related\",\"Sales & Related\",\"Sales & Related\",\"Sales & Related\",\"Sales & Related\",\"Sales & Related\",\"Sales & Related\",\"Sales & Related\",\"Sales & Related\",\"Computer & Mathematical\",\"Computer & Mathematical\",\"Computer & Mathematical\",\"Computer & Mathematical\",\"Computer & Mathematical\",\"Computer & Mathematical\",\"Computer & Mathematical\",\"Computer & Mathematical\",\"Retired\",\"Retired\",\"Retired\",\"Retired\",\"Retired\",\"Education&Training&Library\",\"Education&Training&Library\",\"Management\",\"Management\",\"Management\",\"Management\",\"Retired\",\"Retired\",\"Retired\",\"Retired\",\"Retired\",\"Retired\",\"Legal\",\"Legal\",\"Legal\",\"Construction & Extraction\",\"Construction & Extraction\",\"Construction & Extraction\",\"Construction & Extraction\",\"Construction & Extraction\",\"Construction & Extraction\",\"Construction & Extraction\",\"Arts Design Entertainment Sports & Media\",\"Arts Design Entertainment Sports & Media\",\"Arts Design Entertainment Sports & Media\",\"Arts Design Entertainment Sports & Media\",\"Architecture & Engineering\",\"Architecture & Engineering\",\"Architecture & Engineering\",\"Healthcare Practitioners & Technical\",\"Healthcare Practitioners & Technical\",\"Healthcare Practitioners & Technical\",\"Healthcare Practitioners & Technical\",\"Healthcare Practitioners & Technical\",\"Healthcare Practitioners & Technical\",\"Healthcare Practitioners & Technical\",\"Healthcare Practitioners & Technical\",\"Healthcare Practitioners & Technical\",\"Healthcare Practitioners & Technical\",\"Unemployed\",\"Unemployed\",\"Unemployed\",\"Unemployed\",\"Unemployed\",\"Management\",\"Management\",\"Management\",\"Management\",\"Management\",\"Management\",\"Unemployed\",\"Unemployed\",\"Education&Training&Library\",\"Education&Training&Library\",\"Education&Training&Library\",\"Education&Training&Library\",\"Education&Training&Library\",\"Education&Training&Library\",\"Education&Training&Library\",\"Education&Training&Library\",\"Student\",\"Student\",\"Student\",\"Student\",\"Unemployed\",\"Unemployed\",\"Unemployed\",\"Unemployed\",\"Unemployed\",\"Unemployed\",\"Retired\",\"Retired\",\"Installation Maintenance & Repair\",\"Installation Maintenance & Repair\",\"Installation Maintenance & Repair\",\"Installation Maintenance & Repair\",\"Installation Maintenance & Repair\",\"Installation Maintenance & Repair\",\"Installation Maintenance & Repair\",\"Installation Maintenance & Repair\",\"Installation Maintenance & Repair\",\"Installation Maintenance & Repair\",\"Architecture & Engineering\",\"Architecture & Engineering\",\"Architecture & Engineering\",\"Architecture & Engineering\",\"Architecture & Engineering\",\"Architecture & Engineering\",\"Student\",\"Student\",\"Student\",\"Student\",\"Student\",\"Student\",\"Student\",\"Student\",\"Unemployed\",\"Unemployed\",\"Unemployed\",\"Unemployed\",\"Unemployed\",\"Unemployed\",\"Transportation & Material Moving\",\"Transportation & Material Moving\",\"Transportation & Material Moving\",\"Transportation & Material Moving\",\"Transportation & Material Moving\",\"Transportation & Material Moving\",\"Transportation & Material Moving\",\"Transportation & Material Moving\",\"Education&Training&Library\",\"Management\",\"Management\",\"Management\",\"Management\",\"Management\",\"Management\",\"Management\",\"Legal\",\"Management\",\"Management\",\"Management\",\"Arts Design Entertainment Sports & Media\",\"Arts Design Entertainment Sports & Media\",\"Arts Design Entertainment Sports & Media\",\"Student\",\"Student\",\"Student\",\"Unemployed\",\"Unemployed\",\"Unemployed\",\"Unemployed\",\"Unemployed\",\"Unemployed\",\"Unemployed\",\"Unemployed\",\"Life Physical Social Science\",\"Life Physical Social Science\",\"Life Physical Social Science\",\"Life Physical Social Science\",\"Life Physical Social Science\",\"Life Physical Social Science\",\"Life Physical Social Science\",\"Business & Financial\",\"Business & Financial\",\"Business & Financial\",\"Business & Financial\",\"Business & Financial\",\"Business & Financial\",\"Student\",\"Student\",\"Student\",\"Student\",\"Student\",\"Student\",\"Student\",\"Student\",\"Sales & Related\",\"Sales & Related\",\"Protective Service\",\"Protective Service\",\"Management\",\"Office & Administrative Support\",\"Office & Administrative Support\",\"Office & Administrative Support\",\"Office & Administrative Support\",\"Office & Administrative Support\",\"Office & Administrative Support\",\"Computer & Mathematical\",\"Computer & Mathematical\",\"Computer & Mathematical\",\"Computer & Mathematical\",\"Computer & Mathematical\",\"Computer & Mathematical\",\"Sales & Related\",\"Education&Training&Library\",\"Education&Training&Library\",\"Computer & Mathematical\",\"Arts Design Entertainment Sports & Media\",\"Arts Design Entertainment Sports & Media\",\"Arts Design Entertainment Sports & Media\",\"Arts Design Entertainment Sports & Media\",\"Arts Design Entertainment Sports & Media\",\"Arts Design Entertainment Sports & Media\",\"Arts Design Entertainment Sports & Media\",\"Arts Design Entertainment Sports & Media\",\"Management\",\"Management\",\"Management\",\"Management\",\"Management\",\"Management\",\"Unemployed\",\"Unemployed\",\"Unemployed\",\"Unemployed\",\"Unemployed\",\"Management\",\"Student\",\"Student\",\"Student\",\"Student\",\"Student\",\"Student\",\"Student\",\"Student\",\"Student\",\"Management\",\"Management\",\"Management\",\"Management\",\"Management\",\"Management\",\"Office & Administrative Support\",\"Office & Administrative Support\",\"Office & Administrative Support\",\"Office & Administrative Support\",\"Office & Administrative Support\",\"Office & Administrative Support\",\"Office & Administrative Support\",\"Office & Administrative Support\",\"Office & Administrative Support\",\"Office & Administrative Support\",\"Education&Training&Library\",\"Office & Administrative Support\",\"Office & Administrative Support\",\"Office & Administrative Support\",\"Office & Administrative Support\",\"Office & Administrative Support\",\"Office & Administrative Support\",\"Office & Administrative Support\",\"Legal\",\"Legal\",\"Legal\",\"Legal\",\"Architecture & Engineering\",\"Architecture & Engineering\",\"Architecture & Engineering\",\"Architecture & Engineering\",\"Architecture & Engineering\",\"Architecture & Engineering\",\"Transportation & Material Moving\",\"Transportation & Material Moving\",\"Transportation & Material Moving\",\"Transportation & Material Moving\",\"Transportation & Material Moving\",\"Transportation & Material Moving\",\"Transportation & Material Moving\",\"Education&Training&Library\",\"Education&Training&Library\",\"Education&Training&Library\",\"Computer & Mathematical\",\"Computer & Mathematical\",\"Computer & Mathematical\",\"Unemployed\",\"Unemployed\",\"Unemployed\",\"Unemployed\",\"Unemployed\",\"Unemployed\",\"Unemployed\",\"Unemployed\",\"Student\",\"Student\",\"Student\",\"Student\",\"Student\",\"Student\",\"Student\",\"Student\",\"Student\",\"Student\",\"Student\",\"Student\",\"Education&Training&Library\",\"Education&Training&Library\",\"Education&Training&Library\",\"Education&Training&Library\",\"Computer & Mathematical\",\"Computer & Mathematical\",\"Computer & Mathematical\",\"Computer & Mathematical\",\"Computer & Mathematical\",\"Computer & Mathematical\",\"Computer & Mathematical\",\"Computer & Mathematical\",\"Computer & Mathematical\",\"Business & Financial\",\"Business & Financial\",\"Business & Financial\",\"Computer & Mathematical\",\"Computer & Mathematical\",\"Computer & Mathematical\",\"Computer & Mathematical\",\"Computer & Mathematical\",\"Computer & Mathematical\",\"Protective Service\",\"Protective Service\",\"Protective Service\",\"Protective Service\",\"Computer & Mathematical\",\"Computer & Mathematical\",\"Computer & Mathematical\",\"Computer & Mathematical\",\"Unemployed\",\"Unemployed\",\"Computer & Mathematical\",\"Computer & Mathematical\",\"Computer & Mathematical\",\"Computer & Mathematical\",\"Computer & Mathematical\",\"Computer & Mathematical\",\"Installation Maintenance & Repair\",\"Unemployed\",\"Unemployed\",\"Unemployed\",\"Management\",\"Management\",\"Management\",\"Business & Financial\",\"Healthcare Support\",\"Healthcare Support\",\"Healthcare Support\",\"Healthcare Support\",\"Healthcare Support\",\"Healthcare Support\",\"Healthcare Support\",\"Healthcare Support\",\"Healthcare Support\",\"Healthcare Support\",\"Unemployed\",\"Unemployed\",\"Unemployed\",\"Unemployed\",\"Computer & Mathematical\",\"Computer & Mathematical\",\"Computer & Mathematical\",\"Computer & Mathematical\",\"Student\",\"Student\",\"Student\",\"Student\",\"Life Physical Social Science\",\"Life Physical Social Science\",\"Business & Financial\",\"Computer & Mathematical\",\"Computer & Mathematical\",\"Computer & Mathematical\",\"Sales & Related\",\"Sales & Related\",\"Sales & Related\",\"Sales & Related\",\"Sales & Related\",\"Sales & Related\",\"Sales & Related\",\"Protective Service\",\"Protective Service\",\"Protective Service\",\"Arts Design Entertainment Sports & Media\",\"Arts Design Entertainment Sports & Media\",\"Arts Design Entertainment Sports & Media\",\"Arts Design Entertainment Sports & Media\",\"Arts Design Entertainment Sports & Media\",\"Arts Design Entertainment Sports & Media\",\"Office & Administrative Support\",\"Office & Administrative Support\",\"Office & Administrative Support\",\"Office & Administrative Support\",\"Office & Administrative Support\",\"Office & Administrative Support\",\"Student\",\"Student\",\"Student\",\"Student\",\"Student\",\"Unemployed\",\"Protective Service\",\"Protective Service\",\"Protective Service\",\"Student\",\"Student\",\"Student\",\"Student\",\"Student\",\"Student\",\"Student\",\"Student\",\"Student\",\"Student\",\"Student\",\"Student\",\"Student\",\"Student\",\"Arts Design Entertainment Sports & Media\",\"Arts Design Entertainment Sports & Media\",\"Arts Design Entertainment Sports & Media\",\"Arts Design Entertainment Sports & Media\",\"Arts Design Entertainment Sports & Media\",\"Management\",\"Management\",\"Management\",\"Management\",\"Management\",\"Management\",\"Retired\",\"Student\",\"Student\",\"Student\",\"Student\",\"Student\",\"Student\",\"Student\",\"Student\",\"Student\",\"Sales & Related\",\"Sales & Related\",\"Sales & Related\",\"Sales & Related\",\"Sales & Related\",\"Sales & Related\",\"Life Physical Social Science\",\"Life Physical Social Science\",\"Life Physical Social Science\",\"Life Physical Social Science\",\"Life Physical Social Science\",\"Business & Financial\",\"Business & Financial\",\"Business & Financial\",\"Business & Financial\",\"Business & Financial\",\"Business & Financial\",\"Sales & Related\",\"Sales & Related\",\"Sales & Related\",\"Sales & Related\",\"Food Preparation & Serving Related\",\"Food Preparation & Serving Related\",\"Food Preparation & Serving Related\",\"Food Preparation & Serving Related\",\"Food Preparation & Serving Related\",\"Food Preparation & Serving Related\",\"Food Preparation & Serving Related\",\"Management\",\"Management\",\"Management\",\"Food Preparation & Serving Related\",\"Food Preparation & Serving Related\",\"Food Preparation & Serving Related\",\"Food Preparation & Serving Related\",\"Food Preparation & Serving Related\",\"Food Preparation & Serving Related\",\"Food Preparation & Serving Related\",\"Arts Design Entertainment Sports & Media\",\"Healthcare Practitioners & Technical\",\"Healthcare Practitioners & Technical\",\"Healthcare Practitioners & Technical\",\"Healthcare Practitioners & Technical\",\"Healthcare Practitioners & Technical\",\"Computer & Mathematical\",\"Computer & Mathematical\",\"Arts Design Entertainment Sports & Media\",\"Arts Design Entertainment Sports & Media\",\"Arts Design Entertainment Sports & Media\",\"Arts Design Entertainment Sports & Media\",\"Arts Design Entertainment Sports & Media\",\"Arts Design Entertainment Sports & Media\",\"Arts Design Entertainment Sports & Media\",\"Arts Design Entertainment Sports & Media\",\"Education&Training&Library\",\"Education&Training&Library\",\"Education&Training&Library\",\"Education&Training&Library\",\"Education&Training&Library\",\"Education&Training&Library\",\"Education&Training&Library\",\"Management\",\"Management\",\"Management\",\"Management\",\"Management\",\"Management\",\"Management\",\"Management\",\"Management\",\"Student\",\"Protective Service\",\"Protective Service\",\"Protective Service\",\"Protective Service\",\"Protective Service\",\"Protective Service\",\"Protective Service\",\"Protective Service\",\"Protective Service\",\"Protective Service\",\"Unemployed\",\"Computer & Mathematical\",\"Computer & Mathematical\",\"Computer & Mathematical\",\"Computer & Mathematical\",\"Computer & Mathematical\",\"Management\",\"Management\",\"Management\",\"Management\",\"Management\",\"Management\",\"Management\",\"Management\",\"Student\",\"Student\",\"Student\",\"Education&Training&Library\",\"Education&Training&Library\",\"Education&Training&Library\",\"Education&Training&Library\",\"Education&Training&Library\",\"Education&Training&Library\",\"Education&Training&Library\",\"Education&Training&Library\",\"Education&Training&Library\",\"Education&Training&Library\",\"Protective Service\",\"Protective Service\",\"Sales & Related\",\"Student\",\"Student\",\"Student\",\"Student\",\"Student\",\"Student\",\"Life Physical Social Science\",\"Life Physical Social Science\",\"Student\",\"Student\",\"Student\",\"Student\",\"Student\",\"Student\",\"Student\",\"Student\",\"Student\",\"Student\",\"Unemployed\",\"Unemployed\",\"Unemployed\",\"Unemployed\",\"Unemployed\",\"Unemployed\",\"Unemployed\",\"Legal\",\"Legal\",\"Legal\",\"Legal\",\"Legal\",\"Legal\",\"Legal\",\"Legal\",\"Personal Care & Service\",\"Personal Care & Service\",\"Personal Care & Service\",\"Personal Care & Service\",\"Office & Administrative Support\",\"Office & Administrative Support\",\"Office & Administrative Support\",\"Office & Administrative Support\",\"Office & Administrative Support\",\"Office & Administrative Support\",\"Education&Training&Library\",\"Education&Training&Library\",\"Education&Training&Library\",\"Education&Training&Library\",\"Education&Training&Library\",\"Education&Training&Library\",\"Education&Training&Library\",\"Education&Training&Library\",\"Education&Training&Library\",\"Student\",\"Student\",\"Student\",\"Student\",\"Student\",\"Student\",\"Sales & Related\",\"Sales & Related\",\"Sales & Related\",\"Sales & Related\",\"Student\",\"Student\",\"Student\",\"Student\",\"Student\",\"Student\",\"Student\",\"Community & Social Services\",\"Student\",\"Student\",\"Student\",\"Student\",\"Student\",\"Student\",\"Student\",\"Student\",\"Student\",\"Student\",\"Student\",\"Student\",\"Student\",\"Student\",\"Unemployed\",\"Unemployed\",\"Unemployed\",\"Unemployed\",\"Student\",\"Student\",\"Student\",\"Student\",\"Community & Social Services\",\"Community & Social Services\",\"Community & Social Services\",\"Community & Social Services\",\"Community & Social Services\",\"Community & Social Services\",\"Community & Social Services\",\"Sales & Related\",\"Sales & Related\",\"Sales & Related\",\"Sales & Related\",\"Student\",\"Student\",\"Student\",\"Student\",\"Student\",\"Student\",\"Student\",\"Student\",\"Management\",\"Management\",\"Management\",\"Management\",\"Arts Design Entertainment Sports & Media\",\"Arts Design Entertainment Sports & Media\",\"Arts Design Entertainment Sports & Media\",\"Arts Design Entertainment Sports & Media\",\"Arts Design Entertainment Sports & Media\",\"Arts Design Entertainment Sports & Media\",\"Arts Design Entertainment Sports & Media\",\"Arts Design Entertainment Sports & Media\",\"Arts Design Entertainment Sports & Media\",\"Sales & Related\",\"Sales & Related\",\"Sales & Related\",\"Sales & Related\",\"Sales & Related\",\"Sales & Related\",\"Unemployed\",\"Unemployed\",\"Unemployed\",\"Unemployed\",\"Computer & Mathematical\",\"Computer & Mathematical\",\"Computer & Mathematical\",\"Computer & Mathematical\",\"Computer & Mathematical\",\"Computer & Mathematical\",\"Computer & Mathematical\",\"Computer & Mathematical\",\"Computer & Mathematical\",\"Computer & Mathematical\",\"Computer & Mathematical\",\"Computer & Mathematical\",\"Computer & Mathematical\",\"Healthcare Practitioners & Technical\",\"Healthcare Practitioners & Technical\",\"Healthcare Practitioners & Technical\",\"Healthcare Practitioners & Technical\",\"Healthcare Practitioners & Technical\",\"Healthcare Practitioners & Technical\",\"Healthcare Practitioners & Technical\",\"Healthcare Practitioners & Technical\",\"Healthcare Practitioners & Technical\",\"Healthcare Practitioners & Technical\",\"Healthcare Practitioners & Technical\",\"Unemployed\",\"Unemployed\",\"Unemployed\",\"Unemployed\",\"Student\",\"Student\",\"Arts Design Entertainment Sports & Media\",\"Arts Design Entertainment Sports & Media\",\"Arts Design Entertainment Sports & Media\",\"Arts Design Entertainment Sports & Media\",\"Arts Design Entertainment Sports & Media\",\"Arts Design Entertainment Sports & Media\",\"Arts Design Entertainment Sports & Media\",\"Arts Design Entertainment Sports & Media\",\"Education&Training&Library\",\"Education&Training&Library\",\"Education&Training&Library\",\"Education&Training&Library\",\"Education&Training&Library\",\"Retired\",\"Retired\",\"Retired\",\"Retired\",\"Retired\",\"Retired\",\"Retired\",\"Retired\",\"Retired\",\"Transportation & Material Moving\",\"Transportation & Material Moving\",\"Transportation & Material Moving\",\"Transportation & Material Moving\",\"Transportation & Material Moving\",\"Transportation & Material Moving\",\"Transportation & Material Moving\",\"Student\",\"Student\",\"Student\",\"Student\",\"Student\",\"Student\",\"Student\",\"Student\",\"Office & Administrative Support\",\"Office & Administrative Support\",\"Office & Administrative Support\",\"Business & Financial\",\"Business & Financial\",\"Business & Financial\",\"Business & Financial\",\"Business & Financial\",\"Education&Training&Library\",\"Education&Training&Library\",\"Education&Training&Library\",\"Education&Training&Library\",\"Education&Training&Library\",\"Personal Care & Service\",\"Personal Care & Service\",\"Personal Care & Service\",\"Personal Care & Service\",\"Personal Care & Service\",\"Unemployed\",\"Unemployed\",\"Sales & Related\",\"Management\",\"Education&Training&Library\",\"Education&Training&Library\",\"Education&Training&Library\",\"Education&Training&Library\",\"Education&Training&Library\",\"Education&Training&Library\",\"Education&Training&Library\",\"Education&Training&Library\",\"Education&Training&Library\",\"Transportation & Material Moving\",\"Transportation & Material Moving\",\"Student\",\"Student\",\"Student\",\"Student\",\"Student\",\"Student\",\"Management\",\"Management\",\"Management\",\"Management\",\"Management\",\"Education&Training&Library\",\"Education&Training&Library\",\"Education&Training&Library\",\"Education&Training&Library\",\"Education&Training&Library\",\"Education&Training&Library\",\"Production Occupations\",\"Student\",\"Student\",\"Student\",\"Student\",\"Student\",\"Student\",\"Student\",\"Unemployed\",\"Unemployed\",\"Unemployed\",\"Unemployed\",\"Unemployed\",\"Unemployed\",\"Unemployed\",\"Unemployed\",\"Unemployed\",\"Unemployed\",\"Student\",\"Student\",\"Student\",\"Student\",\"Computer & Mathematical\",\"Computer & Mathematical\",\"Computer & Mathematical\",\"Computer & Mathematical\",\"Computer & Mathematical\",\"Computer & Mathematical\",\"Computer & Mathematical\",\"Computer & Mathematical\",\"Computer & Mathematical\",\"Sales & Related\",\"Sales & Related\",\"Sales & Related\",\"Architecture & Engineering\",\"Architecture & Engineering\",\"Architecture & Engineering\",\"Architecture & Engineering\",\"Architecture & Engineering\",\"Architecture & Engineering\",\"Arts Design Entertainment Sports & Media\",\"Arts Design Entertainment Sports & Media\",\"Arts Design Entertainment Sports & Media\",\"Arts Design Entertainment Sports & Media\",\"Arts Design Entertainment Sports & Media\",\"Arts Design Entertainment Sports & Media\",\"Community & Social Services\",\"Unemployed\",\"Unemployed\",\"Unemployed\",\"Unemployed\",\"Unemployed\",\"Unemployed\",\"Unemployed\",\"Unemployed\",\"Unemployed\",\"Student\",\"Student\",\"Student\",\"Student\",\"Student\",\"Student\",\"Student\",\"Student\",\"Sales & Related\",\"Sales & Related\",\"Sales & Related\",\"Sales & Related\",\"Sales & Related\",\"Sales & Related\",\"Sales & Related\",\"Sales & Related\",\"Sales & Related\",\"Retired\",\"Retired\",\"Unemployed\",\"Unemployed\",\"Unemployed\",\"Unemployed\",\"Unemployed\",\"Management\",\"Management\",\"Management\",\"Management\",\"Management\",\"Management\",\"Management\",\"Management\",\"Unemployed\",\"Unemployed\",\"Unemployed\",\"Unemployed\",\"Unemployed\",\"Unemployed\",\"Unemployed\",\"Unemployed\",\"Unemployed\",\"Unemployed\",\"Unemployed\",\"Retired\",\"Retired\",\"Retired\",\"Retired\",\"Retired\",\"Retired\",\"Retired\",\"Retired\",\"Retired\",\"Retired\",\"Sales & Related\",\"Sales & Related\",\"Sales & Related\",\"Sales & Related\",\"Sales & Related\",\"Sales & Related\",\"Computer & Mathematical\",\"Computer & Mathematical\",\"Computer & Mathematical\",\"Computer & Mathematical\",\"Computer & Mathematical\",\"Computer & Mathematical\",\"Computer & Mathematical\",\"Arts Design Entertainment Sports & Media\",\"Arts Design Entertainment Sports & Media\",\"Arts Design Entertainment Sports & Media\",\"Arts Design Entertainment Sports & Media\",\"Arts Design Entertainment Sports & Media\",\"Arts Design Entertainment Sports & Media\",\"Arts Design Entertainment Sports & Media\",\"Arts Design Entertainment Sports & Media\",\"Arts Design Entertainment Sports & Media\",\"Arts Design Entertainment Sports & Media\",\"Computer & Mathematical\",\"Computer & Mathematical\",\"Computer & Mathematical\",\"Computer & Mathematical\",\"Computer & Mathematical\",\"Computer & Mathematical\",\"Computer & Mathematical\",\"Computer & Mathematical\",\"Computer & Mathematical\",\"Computer & Mathematical\",\"Computer & Mathematical\",\"Computer & Mathematical\",\"Computer & Mathematical\",\"Computer & Mathematical\",\"Computer & Mathematical\",\"Computer & Mathematical\",\"Computer & Mathematical\",\"Computer & Mathematical\",\"Student\",\"Unemployed\",\"Unemployed\",\"Unemployed\",\"Unemployed\",\"Unemployed\",\"Unemployed\",\"Unemployed\",\"Unemployed\",\"Unemployed\",\"Unemployed\",\"Unemployed\",\"Management\",\"Management\",\"Management\",\"Unemployed\",\"Unemployed\",\"Unemployed\",\"Computer & Mathematical\",\"Computer & Mathematical\",\"Computer & Mathematical\",\"Computer & Mathematical\",\"Computer & Mathematical\",\"Computer & Mathematical\",\"Computer & Mathematical\",\"Computer & Mathematical\",\"Computer & Mathematical\",\"Computer & Mathematical\",\"Unemployed\",\"Unemployed\",\"Unemployed\",\"Unemployed\",\"Unemployed\",\"Unemployed\",\"Unemployed\",\"Retired\",\"Retired\",\"Retired\",\"Retired\",\"Retired\",\"Retired\",\"Retired\",\"Retired\",\"Retired\",\"Retired\",\"Student\",\"Student\",\"Student\",\"Student\",\"Student\",\"Student\",\"Student\",\"Community & Social Services\",\"Community & Social Services\",\"Community & Social Services\",\"Community & Social Services\",\"Community & Social Services\",\"Community & Social Services\",\"Office & Administrative Support\",\"Office & Administrative Support\",\"Office & Administrative Support\",\"Management\",\"Management\",\"Management\",\"Management\",\"Management\",\"Sales & Related\",\"Business & Financial\",\"Business & Financial\",\"Business & Financial\",\"Business & Financial\",\"Business & Financial\",\"Business & Financial\",\"Transportation & Material Moving\",\"Transportation & Material Moving\",\"Transportation & Material Moving\",\"Transportation & Material Moving\",\"Transportation & Material Moving\",\"Transportation & Material Moving\",\"Transportation & Material Moving\",\"Student\",\"Student\",\"Student\",\"Student\",\"Student\",\"Student\",\"Unemployed\",\"Unemployed\",\"Unemployed\",\"Unemployed\",\"Unemployed\",\"Unemployed\",\"Unemployed\",\"Unemployed\",\"Unemployed\",\"Unemployed\",\"Unemployed\",\"Unemployed\",\"Unemployed\",\"Unemployed\",\"Unemployed\",\"Unemployed\",\"Unemployed\",\"Unemployed\",\"Arts Design Entertainment Sports & Media\",\"Arts Design Entertainment Sports & Media\",\"Arts Design Entertainment Sports & Media\",\"Arts Design Entertainment Sports & Media\",\"Arts Design Entertainment Sports & Media\",\"Unemployed\",\"Unemployed\",\"Unemployed\",\"Unemployed\",\"Unemployed\",\"Unemployed\",\"Unemployed\",\"Unemployed\",\"Unemployed\",\"Unemployed\",\"Unemployed\",\"Unemployed\",\"Management\",\"Management\",\"Management\",\"Management\",\"Management\",\"Management\",\"Management\",\"Management\",\"Management\",\"Management\",\"Unemployed\",\"Unemployed\",\"Unemployed\",\"Unemployed\",\"Unemployed\",\"Unemployed\",\"Unemployed\",\"Unemployed\",\"Unemployed\",\"Unemployed\",\"Unemployed\",\"Unemployed\",\"Unemployed\",\"Sales & Related\",\"Sales & Related\",\"Sales & Related\",\"Sales & Related\",\"Sales & Related\",\"Sales & Related\",\"Sales & Related\",\"Sales & Related\",\"Sales & Related\",\"Sales & Related\",\"Sales & Related\",\"Sales & Related\",\"Sales & Related\",\"Sales & Related\",\"Business & Financial\",\"Business & Financial\",\"Business & Financial\",\"Business & Financial\",\"Computer & Mathematical\",\"Computer & Mathematical\",\"Computer & Mathematical\",\"Computer & Mathematical\",\"Computer & Mathematical\",\"Computer & Mathematical\",\"Education&Training&Library\",\"Education&Training&Library\",\"Education&Training&Library\",\"Retired\",\"Retired\",\"Retired\",\"Retired\",\"Retired\",\"Sales & Related\",\"Sales & Related\",\"Sales & Related\",\"Sales & Related\",\"Sales & Related\",\"Sales & Related\",\"Building & Grounds Cleaning & Maintenance\",\"Building & Grounds Cleaning & Maintenance\",\"Building & Grounds Cleaning & Maintenance\",\"Building & Grounds Cleaning & Maintenance\",\"Transportation & Material Moving\",\"Transportation & Material Moving\",\"Transportation & Material Moving\",\"Transportation & Material Moving\",\"Transportation & Material Moving\",\"Education&Training&Library\",\"Education&Training&Library\",\"Personal Care & Service\",\"Personal Care & Service\",\"Construction & Extraction\",\"Computer & Mathematical\",\"Computer & Mathematical\",\"Computer & Mathematical\",\"Computer & Mathematical\",\"Computer & Mathematical\",\"Computer & Mathematical\",\"Computer & Mathematical\",\"Arts Design Entertainment Sports & Media\",\"Arts Design Entertainment Sports & Media\",\"Arts Design Entertainment Sports & Media\",\"Arts Design Entertainment Sports & Media\",\"Healthcare Practitioners & Technical\",\"Healthcare Practitioners & Technical\",\"Healthcare Practitioners & Technical\",\"Healthcare Practitioners & Technical\",\"Healthcare Practitioners & Technical\",\"Unemployed\",\"Unemployed\",\"Unemployed\",\"Unemployed\",\"Unemployed\",\"Unemployed\",\"Building & Grounds Cleaning & Maintenance\",\"Building & Grounds Cleaning & Maintenance\",\"Building & Grounds Cleaning & Maintenance\",\"Building & Grounds Cleaning & Maintenance\",\"Education&Training&Library\",\"Education&Training&Library\",\"Education&Training&Library\",\"Education&Training&Library\",\"Education&Training&Library\",\"Student\",\"Student\",\"Student\",\"Student\",\"Student\",\"Management\",\"Management\",\"Management\",\"Computer & Mathematical\",\"Computer & Mathematical\",\"Computer & Mathematical\",\"Computer & Mathematical\",\"Sales & Related\",\"Sales & Related\",\"Life Physical Social Science\",\"Life Physical Social Science\",\"Life Physical Social Science\",\"Life Physical Social Science\",\"Unemployed\",\"Unemployed\",\"Unemployed\",\"Unemployed\",\"Unemployed\",\"Unemployed\",\"Healthcare Practitioners & Technical\",\"Healthcare Practitioners & Technical\",\"Healthcare Practitioners & Technical\",\"Healthcare Practitioners & Technical\",\"Healthcare Practitioners & Technical\",\"Healthcare Support\",\"Computer & Mathematical\",\"Computer & Mathematical\",\"Computer & Mathematical\",\"Computer & Mathematical\",\"Computer & Mathematical\",\"Computer & Mathematical\",\"Computer & Mathematical\",\"Computer & Mathematical\",\"Computer & Mathematical\",\"Computer & Mathematical\",\"Transportation & Material Moving\",\"Transportation & Material Moving\",\"Transportation & Material Moving\",\"Retired\",\"Retired\",\"Retired\",\"Construction & Extraction\",\"Construction & Extraction\",\"Construction & Extraction\",\"Construction & Extraction\",\"Construction & Extraction\",\"Retired\",\"Retired\",\"Unemployed\",\"Unemployed\",\"Unemployed\",\"Sales & Related\",\"Sales & Related\",\"Business & Financial\",\"Unemployed\",\"Unemployed\",\"Unemployed\",\"Unemployed\",\"Unemployed\",\"Unemployed\",\"Management\",\"Management\",\"Unemployed\",\"Unemployed\",\"Unemployed\",\"Unemployed\",\"Unemployed\",\"Computer & Mathematical\",\"Computer & Mathematical\",\"Computer & Mathematical\",\"Computer & Mathematical\",\"Computer & Mathematical\",\"Office & Administrative Support\",\"Office & Administrative Support\",\"Office & Administrative Support\",\"Office & Administrative Support\",\"Office & Administrative Support\",\"Office & Administrative Support\",\"Office & Administrative Support\",\"Computer & Mathematical\",\"Computer & Mathematical\",\"Computer & Mathematical\",\"Computer & Mathematical\",\"Education&Training&Library\",\"Education&Training&Library\",\"Education&Training&Library\",\"Education&Training&Library\",\"Education&Training&Library\",\"Education&Training&Library\",\"Healthcare Support\",\"Healthcare Support\",\"Healthcare Support\",\"Healthcare Support\",\"Healthcare Support\",\"Healthcare Support\",\"Healthcare Support\",\"Business & Financial\",\"Business & Financial\",\"Business & Financial\",\"Business & Financial\",\"Unemployed\",\"Unemployed\",\"Unemployed\",\"Unemployed\",\"Unemployed\",\"Unemployed\",\"Unemployed\",\"Unemployed\",\"Unemployed\",\"Unemployed\",\"Unemployed\",\"Management\",\"Management\",\"Education&Training&Library\",\"Education&Training&Library\",\"Education&Training&Library\",\"Education&Training&Library\",\"Education&Training&Library\",\"Education&Training&Library\",\"Unemployed\",\"Unemployed\",\"Unemployed\",\"Construction & Extraction\",\"Construction & Extraction\",\"Construction & Extraction\",\"Construction & Extraction\",\"Installation Maintenance & Repair\",\"Installation Maintenance & Repair\",\"Installation Maintenance & Repair\",\"Education&Training&Library\",\"Education&Training&Library\",\"Education&Training&Library\",\"Education&Training&Library\",\"Education&Training&Library\",\"Computer & Mathematical\",\"Computer & Mathematical\",\"Computer & Mathematical\",\"Computer & Mathematical\",\"Architecture & Engineering\",\"Architecture & Engineering\",\"Architecture & Engineering\",\"Architecture & Engineering\",\"Computer & Mathematical\",\"Computer & Mathematical\",\"Computer & Mathematical\",\"Computer & Mathematical\",\"Education&Training&Library\",\"Education&Training&Library\",\"Education&Training&Library\",\"Education&Training&Library\",\"Installation Maintenance & Repair\",\"Installation Maintenance & Repair\",\"Installation Maintenance & Repair\",\"Installation Maintenance & Repair\",\"Installation Maintenance & Repair\",\"Installation Maintenance & Repair\",\"Installation Maintenance & Repair\",\"Food Preparation & Serving Related\",\"Food Preparation & Serving Related\",\"Food Preparation & Serving Related\",\"Personal Care & Service\",\"Personal Care & Service\",\"Personal Care & Service\",\"Personal Care & Service\",\"Business & Financial\",\"Business & Financial\",\"Business & Financial\",\"Business & Financial\",\"Management\",\"Management\",\"Management\",\"Management\",\"Student\",\"Student\",\"Student\",\"Unemployed\",\"Unemployed\",\"Unemployed\",\"Unemployed\",\"Unemployed\",\"Unemployed\",\"Education&Training&Library\",\"Education&Training&Library\",\"Office & Administrative Support\",\"Unemployed\",\"Unemployed\",\"Unemployed\",\"Unemployed\",\"Unemployed\",\"Arts Design Entertainment Sports & Media\",\"Arts Design Entertainment Sports & Media\",\"Arts Design Entertainment Sports & Media\",\"Arts Design Entertainment Sports & Media\",\"Business & Financial\",\"Business & Financial\",\"Business & Financial\",\"Business & Financial\",\"Business & Financial\",\"Business & Financial\",\"Business & Financial\",\"Business & Financial\",\"Business & Financial\",\"Business & Financial\",\"Business & Financial\",\"Business & Financial\",\"Business & Financial\",\"Computer & Mathematical\",\"Computer & Mathematical\",\"Computer & Mathematical\",\"Computer & Mathematical\",\"Computer & Mathematical\",\"Computer & Mathematical\",\"Computer & Mathematical\",\"Arts Design Entertainment Sports & Media\",\"Arts Design Entertainment Sports & Media\",\"Arts Design Entertainment Sports & Media\",\"Arts Design Entertainment Sports & Media\",\"Computer & Mathematical\",\"Computer & Mathematical\",\"Computer & Mathematical\",\"Computer & Mathematical\",\"Computer & Mathematical\",\"Healthcare Support\",\"Healthcare Support\",\"Healthcare Support\",\"Management\",\"Management\",\"Management\",\"Management\",\"Unemployed\",\"Unemployed\",\"Unemployed\",\"Student\",\"Student\",\"Student\",\"Student\",\"Student\",\"Student\",\"Food Preparation & Serving Related\",\"Food Preparation & Serving Related\",\"Food Preparation & Serving Related\",\"Food Preparation & Serving Related\",\"Food Preparation & Serving Related\",\"Food Preparation & Serving Related\",\"Transportation & Material Moving\",\"Transportation & Material Moving\",\"Transportation & Material Moving\",\"Transportation & Material Moving\",\"Transportation & Material Moving\",\"Food Preparation & Serving Related\",\"Food Preparation & Serving Related\",\"Food Preparation & Serving Related\",\"Food Preparation & Serving Related\",\"Student\",\"Student\",\"Student\",\"Student\",\"Computer & Mathematical\",\"Computer & Mathematical\",\"Computer & Mathematical\",\"Computer & Mathematical\",\"Computer & Mathematical\",\"Computer & Mathematical\",\"Computer & Mathematical\",\"Computer & Mathematical\",\"Computer & Mathematical\",\"Computer & Mathematical\",\"Student\",\"Student\",\"Student\",\"Student\",\"Student\",\"Student\",\"Student\",\"Student\",\"Student\",\"Office & Administrative Support\",\"Office & Administrative Support\",\"Office & Administrative Support\",\"Healthcare Support\",\"Healthcare Support\",\"Student\",\"Student\",\"Student\",\"Student\",\"Office & Administrative Support\",\"Office & Administrative Support\",\"Student\",\"Student\",\"Student\",\"Student\",\"Unemployed\",\"Unemployed\",\"Unemployed\",\"Unemployed\",\"Business & Financial\",\"Business & Financial\",\"Business & Financial\",\"Business & Financial\",\"Retired\",\"Retired\",\"Retired\",\"Computer & Mathematical\",\"Computer & Mathematical\",\"Computer & Mathematical\",\"Computer & Mathematical\",\"Computer & Mathematical\",\"Sales & Related\",\"Sales & Related\",\"Sales & Related\",\"Sales & Related\",\"Sales & Related\",\"Student\",\"Student\",\"Student\",\"Student\",\"Student\",\"Farming Fishing & Forestry\",\"Farming Fishing & Forestry\",\"Farming Fishing & Forestry\",\"Farming Fishing & Forestry\",\"Farming Fishing & Forestry\",\"Farming Fishing & Forestry\",\"Computer & Mathematical\",\"Production Occupations\",\"Production Occupations\",\"Production Occupations\",\"Student\",\"Student\",\"Student\",\"Student\",\"Student\",\"Student\",\"Student\",\"Production Occupations\",\"Production Occupations\",\"Production Occupations\",\"Office & Administrative Support\",\"Office & Administrative Support\",\"Office & Administrative Support\",\"Office & Administrative Support\",\"Unemployed\",\"Unemployed\",\"Education&Training&Library\",\"Education&Training&Library\",\"Education&Training&Library\",\"Education&Training&Library\",\"Unemployed\",\"Unemployed\",\"Unemployed\",\"Unemployed\",\"Sales & Related\",\"Sales & Related\",\"Sales & Related\",\"Sales & Related\",\"Sales & Related\",\"Sales & Related\",\"Office & Administrative Support\",\"Computer & Mathematical\",\"Computer & Mathematical\",\"Computer & Mathematical\",\"Student\",\"Student\",\"Business & Financial\",\"Business & Financial\",\"Business & Financial\",\"Business & Financial\",\"Education&Training&Library\",\"Education&Training&Library\",\"Education&Training&Library\",\"Education&Training&Library\",\"Office & Administrative Support\",\"Office & Administrative Support\",\"Office & Administrative Support\",\"Office & Administrative Support\",\"Sales & Related\",\"Sales & Related\",\"Sales & Related\",\"Sales & Related\",\"Community & Social Services\",\"Community & Social Services\",\"Community & Social Services\",\"Unemployed\",\"Arts Design Entertainment Sports & Media\",\"Arts Design Entertainment Sports & Media\",\"Healthcare Practitioners & Technical\",\"Healthcare Practitioners & Technical\",\"Healthcare Practitioners & Technical\",\"Healthcare Practitioners & Technical\",\"Healthcare Practitioners & Technical\",\"Healthcare Practitioners & Technical\",\"Architecture & Engineering\",\"Architecture & Engineering\",\"Architecture & Engineering\",\"Architecture & Engineering\",\"Architecture & Engineering\",\"Computer & Mathematical\",\"Computer & Mathematical\",\"Computer & Mathematical\",\"Computer & Mathematical\",\"Computer & Mathematical\",\"Computer & Mathematical\",\"Computer & Mathematical\",\"Student\",\"Student\",\"Student\",\"Student\",\"Student\",\"Student\",\"Student\",\"Legal\",\"Legal\",\"Legal\",\"Unemployed\",\"Unemployed\",\"Unemployed\",\"Unemployed\",\"Unemployed\",\"Unemployed\",\"Unemployed\",\"Unemployed\",\"Unemployed\",\"Unemployed\",\"Personal Care & Service\",\"Personal Care & Service\",\"Personal Care & Service\",\"Personal Care & Service\",\"Arts Design Entertainment Sports & Media\",\"Arts Design Entertainment Sports & Media\",\"Arts Design Entertainment Sports & Media\",\"Arts Design Entertainment Sports & Media\",\"Arts Design Entertainment Sports & Media\",\"Community & Social Services\",\"Community & Social Services\",\"Community & Social Services\",\"Community & Social Services\",\"Unemployed\",\"Unemployed\",\"Unemployed\",\"Unemployed\",\"Office & Administrative Support\",\"Office & Administrative Support\",\"Office & Administrative Support\",\"Office & Administrative Support\",\"Office & Administrative Support\",\"Student\",\"Student\",\"Student\",\"Student\",\"Unemployed\",\"Unemployed\",\"Unemployed\",\"Unemployed\",\"Installation Maintenance & Repair\",\"Installation Maintenance & Repair\",\"Installation Maintenance & Repair\",\"Installation Maintenance & Repair\",\"Unemployed\",\"Unemployed\",\"Unemployed\",\"Unemployed\",\"Unemployed\",\"Food Preparation & Serving Related\",\"Food Preparation & Serving Related\",\"Food Preparation & Serving Related\",\"Protective Service\",\"Student\",\"Student\",\"Management\",\"Management\",\"Healthcare Support\",\"Healthcare Support\",\"Unemployed\",\"Unemployed\",\"Unemployed\",\"Food Preparation & Serving Related\",\"Food Preparation & Serving Related\",\"Food Preparation & Serving Related\",\"Computer & Mathematical\",\"Computer & Mathematical\",\"Computer & Mathematical\",\"Computer & Mathematical\",\"Healthcare Support\",\"Healthcare Support\",\"Healthcare Support\",\"Sales & Related\",\"Sales & Related\",\"Business & Financial\",\"Business & Financial\",\"Student\",\"Student\",\"Student\",\"Student\",\"Student\",\"Student\",\"Student\",\"Student\",\"Food Preparation & Serving Related\",\"Sales & Related\",\"Sales & Related\",\"Unemployed\",\"Production Occupations\",\"Production Occupations\",\"Production Occupations\",\"Computer & Mathematical\",\"Computer & Mathematical\",\"Computer & Mathematical\",\"Management\",\"Education&Training&Library\",\"Student\",\"Unemployed\",\"Transportation & Material Moving\",\"Transportation & Material Moving\",\"Transportation & Material Moving\",\"Student\",\"Education&Training&Library\",\"Food Preparation & Serving Related\",\"Food Preparation & Serving Related\",\"Food Preparation & Serving Related\",\"Unemployed\",\"Unemployed\",\"Unemployed\",\"Retired\",\"Sales & Related\",\"Sales & Related\",\"Arts Design Entertainment Sports & Media\",\"Student\",\"Student\",\"Student\",\"Student\",\"Healthcare Practitioners & Technical\",\"Construction & Extraction\",\"Construction & Extraction\",\"Construction & Extraction\",\"Student\",\"Student\",\"Student\",\"Management\",\"Management\",\"Management\",\"Sales & Related\",\"Unemployed\",\"Unemployed\",\"Computer & Mathematical\",\"Computer & Mathematical\",\"Computer & Mathematical\",\"Healthcare Support\",\"Healthcare Support\",\"Healthcare Practitioners & Technical\",\"Sales & Related\",\"Student\",\"Computer & Mathematical\",\"Education&Training&Library\",\"Unemployed\",\"Student\",\"Student\",\"Business & Financial\",\"Business & Financial\",\"Business & Financial\",\"Office & Administrative Support\",\"Office & Administrative Support\",\"Unemployed\",\"Arts Design Entertainment Sports & Media\",\"Unemployed\",\"Computer & Mathematical\",\"Healthcare Support\",\"Business & Financial\",\"Business & Financial\",\"Business & Financial\",\"Unemployed\",\"Retired\",\"Computer & Mathematical\",\"Education&Training&Library\",\"Unemployed\",\"Protective Service\",\"Unemployed\",\"Sales & Related\",\"Sales & Related\",\"Office & Administrative Support\",\"Student\",\"Personal Care & Service\",\"Personal Care & Service\",\"Unemployed\",\"Unemployed\"],\"xaxis\":\"x\",\"yaxis\":\"y\",\"type\":\"histogram\"}],                        {\"template\":{\"data\":{\"histogram2dcontour\":[{\"type\":\"histogram2dcontour\",\"colorbar\":{\"outlinewidth\":0,\"ticks\":\"\"},\"colorscale\":[[0.0,\"#0d0887\"],[0.1111111111111111,\"#46039f\"],[0.2222222222222222,\"#7201a8\"],[0.3333333333333333,\"#9c179e\"],[0.4444444444444444,\"#bd3786\"],[0.5555555555555556,\"#d8576b\"],[0.6666666666666666,\"#ed7953\"],[0.7777777777777778,\"#fb9f3a\"],[0.8888888888888888,\"#fdca26\"],[1.0,\"#f0f921\"]]}],\"choropleth\":[{\"type\":\"choropleth\",\"colorbar\":{\"outlinewidth\":0,\"ticks\":\"\"}}],\"histogram2d\":[{\"type\":\"histogram2d\",\"colorbar\":{\"outlinewidth\":0,\"ticks\":\"\"},\"colorscale\":[[0.0,\"#0d0887\"],[0.1111111111111111,\"#46039f\"],[0.2222222222222222,\"#7201a8\"],[0.3333333333333333,\"#9c179e\"],[0.4444444444444444,\"#bd3786\"],[0.5555555555555556,\"#d8576b\"],[0.6666666666666666,\"#ed7953\"],[0.7777777777777778,\"#fb9f3a\"],[0.8888888888888888,\"#fdca26\"],[1.0,\"#f0f921\"]]}],\"heatmap\":[{\"type\":\"heatmap\",\"colorbar\":{\"outlinewidth\":0,\"ticks\":\"\"},\"colorscale\":[[0.0,\"#0d0887\"],[0.1111111111111111,\"#46039f\"],[0.2222222222222222,\"#7201a8\"],[0.3333333333333333,\"#9c179e\"],[0.4444444444444444,\"#bd3786\"],[0.5555555555555556,\"#d8576b\"],[0.6666666666666666,\"#ed7953\"],[0.7777777777777778,\"#fb9f3a\"],[0.8888888888888888,\"#fdca26\"],[1.0,\"#f0f921\"]]}],\"heatmapgl\":[{\"type\":\"heatmapgl\",\"colorbar\":{\"outlinewidth\":0,\"ticks\":\"\"},\"colorscale\":[[0.0,\"#0d0887\"],[0.1111111111111111,\"#46039f\"],[0.2222222222222222,\"#7201a8\"],[0.3333333333333333,\"#9c179e\"],[0.4444444444444444,\"#bd3786\"],[0.5555555555555556,\"#d8576b\"],[0.6666666666666666,\"#ed7953\"],[0.7777777777777778,\"#fb9f3a\"],[0.8888888888888888,\"#fdca26\"],[1.0,\"#f0f921\"]]}],\"contourcarpet\":[{\"type\":\"contourcarpet\",\"colorbar\":{\"outlinewidth\":0,\"ticks\":\"\"}}],\"contour\":[{\"type\":\"contour\",\"colorbar\":{\"outlinewidth\":0,\"ticks\":\"\"},\"colorscale\":[[0.0,\"#0d0887\"],[0.1111111111111111,\"#46039f\"],[0.2222222222222222,\"#7201a8\"],[0.3333333333333333,\"#9c179e\"],[0.4444444444444444,\"#bd3786\"],[0.5555555555555556,\"#d8576b\"],[0.6666666666666666,\"#ed7953\"],[0.7777777777777778,\"#fb9f3a\"],[0.8888888888888888,\"#fdca26\"],[1.0,\"#f0f921\"]]}],\"surface\":[{\"type\":\"surface\",\"colorbar\":{\"outlinewidth\":0,\"ticks\":\"\"},\"colorscale\":[[0.0,\"#0d0887\"],[0.1111111111111111,\"#46039f\"],[0.2222222222222222,\"#7201a8\"],[0.3333333333333333,\"#9c179e\"],[0.4444444444444444,\"#bd3786\"],[0.5555555555555556,\"#d8576b\"],[0.6666666666666666,\"#ed7953\"],[0.7777777777777778,\"#fb9f3a\"],[0.8888888888888888,\"#fdca26\"],[1.0,\"#f0f921\"]]}],\"mesh3d\":[{\"type\":\"mesh3d\",\"colorbar\":{\"outlinewidth\":0,\"ticks\":\"\"}}],\"scatter\":[{\"fillpattern\":{\"fillmode\":\"overlay\",\"size\":10,\"solidity\":0.2},\"type\":\"scatter\"}],\"parcoords\":[{\"type\":\"parcoords\",\"line\":{\"colorbar\":{\"outlinewidth\":0,\"ticks\":\"\"}}}],\"scatterpolargl\":[{\"type\":\"scatterpolargl\",\"marker\":{\"colorbar\":{\"outlinewidth\":0,\"ticks\":\"\"}}}],\"bar\":[{\"error_x\":{\"color\":\"#2a3f5f\"},\"error_y\":{\"color\":\"#2a3f5f\"},\"marker\":{\"line\":{\"color\":\"#E5ECF6\",\"width\":0.5},\"pattern\":{\"fillmode\":\"overlay\",\"size\":10,\"solidity\":0.2}},\"type\":\"bar\"}],\"scattergeo\":[{\"type\":\"scattergeo\",\"marker\":{\"colorbar\":{\"outlinewidth\":0,\"ticks\":\"\"}}}],\"scatterpolar\":[{\"type\":\"scatterpolar\",\"marker\":{\"colorbar\":{\"outlinewidth\":0,\"ticks\":\"\"}}}],\"histogram\":[{\"marker\":{\"pattern\":{\"fillmode\":\"overlay\",\"size\":10,\"solidity\":0.2}},\"type\":\"histogram\"}],\"scattergl\":[{\"type\":\"scattergl\",\"marker\":{\"colorbar\":{\"outlinewidth\":0,\"ticks\":\"\"}}}],\"scatter3d\":[{\"type\":\"scatter3d\",\"line\":{\"colorbar\":{\"outlinewidth\":0,\"ticks\":\"\"}},\"marker\":{\"colorbar\":{\"outlinewidth\":0,\"ticks\":\"\"}}}],\"scattermapbox\":[{\"type\":\"scattermapbox\",\"marker\":{\"colorbar\":{\"outlinewidth\":0,\"ticks\":\"\"}}}],\"scatterternary\":[{\"type\":\"scatterternary\",\"marker\":{\"colorbar\":{\"outlinewidth\":0,\"ticks\":\"\"}}}],\"scattercarpet\":[{\"type\":\"scattercarpet\",\"marker\":{\"colorbar\":{\"outlinewidth\":0,\"ticks\":\"\"}}}],\"carpet\":[{\"aaxis\":{\"endlinecolor\":\"#2a3f5f\",\"gridcolor\":\"white\",\"linecolor\":\"white\",\"minorgridcolor\":\"white\",\"startlinecolor\":\"#2a3f5f\"},\"baxis\":{\"endlinecolor\":\"#2a3f5f\",\"gridcolor\":\"white\",\"linecolor\":\"white\",\"minorgridcolor\":\"white\",\"startlinecolor\":\"#2a3f5f\"},\"type\":\"carpet\"}],\"table\":[{\"cells\":{\"fill\":{\"color\":\"#EBF0F8\"},\"line\":{\"color\":\"white\"}},\"header\":{\"fill\":{\"color\":\"#C8D4E3\"},\"line\":{\"color\":\"white\"}},\"type\":\"table\"}],\"barpolar\":[{\"marker\":{\"line\":{\"color\":\"#E5ECF6\",\"width\":0.5},\"pattern\":{\"fillmode\":\"overlay\",\"size\":10,\"solidity\":0.2}},\"type\":\"barpolar\"}],\"pie\":[{\"automargin\":true,\"type\":\"pie\"}]},\"layout\":{\"autotypenumbers\":\"strict\",\"colorway\":[\"#636efa\",\"#EF553B\",\"#00cc96\",\"#ab63fa\",\"#FFA15A\",\"#19d3f3\",\"#FF6692\",\"#B6E880\",\"#FF97FF\",\"#FECB52\"],\"font\":{\"color\":\"#2a3f5f\"},\"hovermode\":\"closest\",\"hoverlabel\":{\"align\":\"left\"},\"paper_bgcolor\":\"white\",\"plot_bgcolor\":\"#E5ECF6\",\"polar\":{\"bgcolor\":\"#E5ECF6\",\"angularaxis\":{\"gridcolor\":\"white\",\"linecolor\":\"white\",\"ticks\":\"\"},\"radialaxis\":{\"gridcolor\":\"white\",\"linecolor\":\"white\",\"ticks\":\"\"}},\"ternary\":{\"bgcolor\":\"#E5ECF6\",\"aaxis\":{\"gridcolor\":\"white\",\"linecolor\":\"white\",\"ticks\":\"\"},\"baxis\":{\"gridcolor\":\"white\",\"linecolor\":\"white\",\"ticks\":\"\"},\"caxis\":{\"gridcolor\":\"white\",\"linecolor\":\"white\",\"ticks\":\"\"}},\"coloraxis\":{\"colorbar\":{\"outlinewidth\":0,\"ticks\":\"\"}},\"colorscale\":{\"sequential\":[[0.0,\"#0d0887\"],[0.1111111111111111,\"#46039f\"],[0.2222222222222222,\"#7201a8\"],[0.3333333333333333,\"#9c179e\"],[0.4444444444444444,\"#bd3786\"],[0.5555555555555556,\"#d8576b\"],[0.6666666666666666,\"#ed7953\"],[0.7777777777777778,\"#fb9f3a\"],[0.8888888888888888,\"#fdca26\"],[1.0,\"#f0f921\"]],\"sequentialminus\":[[0.0,\"#0d0887\"],[0.1111111111111111,\"#46039f\"],[0.2222222222222222,\"#7201a8\"],[0.3333333333333333,\"#9c179e\"],[0.4444444444444444,\"#bd3786\"],[0.5555555555555556,\"#d8576b\"],[0.6666666666666666,\"#ed7953\"],[0.7777777777777778,\"#fb9f3a\"],[0.8888888888888888,\"#fdca26\"],[1.0,\"#f0f921\"]],\"diverging\":[[0,\"#8e0152\"],[0.1,\"#c51b7d\"],[0.2,\"#de77ae\"],[0.3,\"#f1b6da\"],[0.4,\"#fde0ef\"],[0.5,\"#f7f7f7\"],[0.6,\"#e6f5d0\"],[0.7,\"#b8e186\"],[0.8,\"#7fbc41\"],[0.9,\"#4d9221\"],[1,\"#276419\"]]},\"xaxis\":{\"gridcolor\":\"white\",\"linecolor\":\"white\",\"ticks\":\"\",\"title\":{\"standoff\":15},\"zerolinecolor\":\"white\",\"automargin\":true,\"zerolinewidth\":2},\"yaxis\":{\"gridcolor\":\"white\",\"linecolor\":\"white\",\"ticks\":\"\",\"title\":{\"standoff\":15},\"zerolinecolor\":\"white\",\"automargin\":true,\"zerolinewidth\":2},\"scene\":{\"xaxis\":{\"backgroundcolor\":\"#E5ECF6\",\"gridcolor\":\"white\",\"linecolor\":\"white\",\"showbackground\":true,\"ticks\":\"\",\"zerolinecolor\":\"white\",\"gridwidth\":2},\"yaxis\":{\"backgroundcolor\":\"#E5ECF6\",\"gridcolor\":\"white\",\"linecolor\":\"white\",\"showbackground\":true,\"ticks\":\"\",\"zerolinecolor\":\"white\",\"gridwidth\":2},\"zaxis\":{\"backgroundcolor\":\"#E5ECF6\",\"gridcolor\":\"white\",\"linecolor\":\"white\",\"showbackground\":true,\"ticks\":\"\",\"zerolinecolor\":\"white\",\"gridwidth\":2}},\"shapedefaults\":{\"line\":{\"color\":\"#2a3f5f\"}},\"annotationdefaults\":{\"arrowcolor\":\"#2a3f5f\",\"arrowhead\":0,\"arrowwidth\":1},\"geo\":{\"bgcolor\":\"white\",\"landcolor\":\"#E5ECF6\",\"subunitcolor\":\"white\",\"showland\":true,\"showlakes\":true,\"lakecolor\":\"white\"},\"title\":{\"x\":0.05},\"mapbox\":{\"style\":\"light\"}}},\"xaxis\":{\"anchor\":\"y\",\"domain\":[0.0,1.0],\"title\":{\"text\":\"occupation\"}},\"yaxis\":{\"anchor\":\"x\",\"domain\":[0.0,1.0],\"title\":{\"text\":\"count\"}},\"legend\":{\"title\":{\"text\":\"Y\"},\"tracegroupgap\":0},\"margin\":{\"t\":60},\"barmode\":\"group\"},                        {\"responsive\": true}                    ).then(function(){\n",
              "                            \n",
              "var gd = document.getElementById('57ea985c-53e9-4436-80da-34f6facd526a');\n",
              "var x = new MutationObserver(function (mutations, observer) {{\n",
              "        var display = window.getComputedStyle(gd).display;\n",
              "        if (!display || display === 'none') {{\n",
              "            console.log([gd, 'removed!']);\n",
              "            Plotly.purge(gd);\n",
              "            observer.disconnect();\n",
              "        }}\n",
              "}});\n",
              "\n",
              "// Listen for the removal of the full notebook cells\n",
              "var notebookContainer = gd.closest('#notebook-container');\n",
              "if (notebookContainer) {{\n",
              "    x.observe(notebookContainer, {childList: true});\n",
              "}}\n",
              "\n",
              "// Listen for the clearing of the current output cell\n",
              "var outputEl = gd.closest('.output');\n",
              "if (outputEl) {{\n",
              "    x.observe(outputEl, {childList: true});\n",
              "}}\n",
              "\n",
              "                        })                };                            </script>        </div>\n",
              "</body>\n",
              "</html>"
            ]
          },
          "metadata": {}
        }
      ],
      "source": [
        "# Lets look at what occupations were represented in the coffee shop coupons\n",
        "\n",
        "px.histogram(cof_df, x='occupation', color='Y', barmode='group')\n"
      ]
    },
    {
      "cell_type": "markdown",
      "source": [
        "The above graph shows Coupon acceptance vs denial depending on the occupation. Here we can see some interesting trends. Lots of the occupations have almost idential acceptance vs denial rates, however, there are some outliers. From an earlier calculation we saw that coffee shop coupon acceptance was already below 50%, this follows in our visualization as many of the occupations show a higher rate coupon denial than acceptance. An example of this can be seen in 'Sales & Related'. On the other hand, perhaps the most interesting relationship in the chart is for the 'Student' occupation. Students are accepting the coupons at a rate around 40% higher than their denial rate."
      ],
      "metadata": {
        "id": "AY1ijRRm73S8"
      }
    },
    {
      "cell_type": "code",
      "source": [
        "# Lets look at how much the direction of travel was affecting the acceptance rate.\n",
        "same = cof_df.query('direction_same == 1')\n",
        "opp = cof_df.query('direction_opp == 1')\n",
        "\n",
        "# Finding the acceptance rate.\n",
        "same_rate = len(same[same['Y'] == 1]) / len(same['Y']) * 100\n",
        "opp_rate = len(opp[opp['Y'] == 1]) / len(opp['Y']) * 100\n",
        "\n",
        "# Rounding to 2 decimal places.\n",
        "same_rate = round(same_rate, 2)\n",
        "opp_rate = round(opp_rate, 2)\n",
        "\n",
        "# Printing Statements\n",
        "print(f'Acceptance rate when going in same direction as coupon destination: {same_rate}%')\n",
        "print(f'Acceptance rate when going in opposite direction as coupon destination: {opp_rate}%')\n",
        "\n",
        "# Adding a pie chart\n",
        "\n",
        "plt.subplot(121)\n",
        "# Get value counts and rename the index\n",
        "same_counts = same['Y'].value_counts()\n",
        "same_counts.index = ['Accepted' if i == 1 else 'Denied' for i in same_counts.index]\n",
        "same_counts.plot(kind='pie', explode=[0.1, 0.1], autopct='%1.1f%%', colors=['g', 'r'])\n",
        "plt.title('Same Direction')\n",
        "\n",
        "plt.subplot(122)\n",
        "# Get value counts and rename the index\n",
        "opp_counts = opp['Y'].value_counts()\n",
        "opp_counts.index = ['Accepted' if i == 1 else 'Denied' for i in opp_counts.index]\n",
        "opp_counts.plot(kind='pie', explode=[0.1, 0.1], autopct='%1.1f%%', colors=['r', 'g'])\n",
        "plt.title('Oppostie Direction')\n"
      ],
      "metadata": {
        "colab": {
          "base_uri": "https://localhost:8080/",
          "height": 341
        },
        "id": "mDerJbug-O2i",
        "outputId": "62ac5d42-57a3-487d-d9ca-b5a670ed6edb"
      },
      "execution_count": 42,
      "outputs": [
        {
          "output_type": "stream",
          "name": "stdout",
          "text": [
            "Acceptance rate when going in same direction as coupon destination: 53.07%\n",
            "Acceptance rate when going in opposite direction as coupon destination: 49.2%\n"
          ]
        },
        {
          "output_type": "execute_result",
          "data": {
            "text/plain": [
              "Text(0.5, 1.0, 'Oppostie Direction')"
            ]
          },
          "metadata": {},
          "execution_count": 42
        },
        {
          "output_type": "display_data",
          "data": {
            "text/plain": [
              "<Figure size 640x480 with 2 Axes>"
            ],
            "image/png": "[encoded data removed]"
          },
          "metadata": {}
        }
      ]
    },
    {
      "cell_type": "markdown",
      "source": [
        "Interestingly we find that the direction someone is traveling does not have very much influence on their acceptance of coffee house coupons."
      ],
      "metadata": {
        "id": "aRv6N1rsG4WR"
      }
    },
    {
      "cell_type": "markdown",
      "source": [
        "## Looking at things like time of day, weather, and temperature."
      ],
      "metadata": {
        "id": "9WnpkMfQH8cY"
      }
    },
    {
      "cell_type": "code",
      "source": [
        "# First looking at time of day\n",
        "cof_df['time'].unique()\n",
        "\n",
        "# Lets make a countplot that shows the acceptance depedning on the time\n",
        "sns.countplot(data=cof_df, x='time', hue='Y')\n",
        "plt.title('Coffee Coupon Acceptance Depending on Time')\n",
        "plt.xlabel('Time')\n",
        "plt.ylabel('Number of Observations')\n",
        "plt.legend(title='Acceptance (1 if \\naccepted, 0 otherwise)')"
      ],
      "metadata": {
        "colab": {
          "base_uri": "https://localhost:8080/",
          "height": 490
        },
        "id": "tV8nTwTMBcDx",
        "outputId": "1e7aacf8-eaa8-42d6-f89a-a70bee4fd69a"
      },
      "execution_count": 53,
      "outputs": [
        {
          "output_type": "execute_result",
          "data": {
            "text/plain": [
              "<matplotlib.legend.Legend at 0x7f9cf7c2d270>"
            ]
          },
          "metadata": {},
          "execution_count": 53
        },
        {
          "output_type": "display_data",
          "data": {
            "text/plain": [
              "<Figure size 640x480 with 1 Axes>"
            ],
            "image/png": "[encoded data removed]"
          },
          "metadata": {}
        }
      ]
    },
    {
      "cell_type": "markdown",
      "source": [
        "This plot indicates that people are far more likely to accept the coffee coupons during the beginning of the day"
      ],
      "metadata": {
        "id": "EP565pRUKAXV"
      }
    },
    {
      "cell_type": "code",
      "source": [
        "# Lets look at weather now\n",
        "cof_df['weather'].unique()\n",
        "\n",
        "# Histogram showing acceptance depending on the type of weather.\n",
        "\n",
        "sns.countplot(data=cof_df, x='weather', hue='Y')\n",
        "plt.title('Coffee Coupon Acceptance Depending on Weather')\n",
        "plt.xlabel('Weather Type')\n",
        "plt.ylabel('Number of Observations')\n",
        "plt.legend(title='Acceptance (1 if \\naccepted, 0 otherwise)')\n"
      ],
      "metadata": {
        "colab": {
          "base_uri": "https://localhost:8080/",
          "height": 490
        },
        "id": "eL2cdF32IELQ",
        "outputId": "cb2dfb0c-01fc-41a5-b46f-fbd45bec9cf3"
      },
      "execution_count": 57,
      "outputs": [
        {
          "output_type": "execute_result",
          "data": {
            "text/plain": [
              "<matplotlib.legend.Legend at 0x7f9ce8658940>"
            ]
          },
          "metadata": {},
          "execution_count": 57
        },
        {
          "output_type": "display_data",
          "data": {
            "text/plain": [
              "<Figure size 640x480 with 1 Axes>"
            ],
            "image/png": "[encoded data removed]"
          },
          "metadata": {}
        }
      ]
    },
    {
      "cell_type": "markdown",
      "source": [
        "Here we see little to no difference in acceptance based on type of weather."
      ],
      "metadata": {
        "id": "0YmZBtmoMGev"
      }
    },
    {
      "cell_type": "code",
      "source": [
        "# Lets look at temperature now\n",
        "cof_df['temperature'].unique()\n",
        "\n",
        "# Histogram showing acceptance depending on the temperature.\n",
        "\n",
        "\n",
        "sns.countplot(data=cof_df, x='temperature', hue='Y')\n",
        "plt.title('Coffee Coupon Acceptance Depending on Temperature')\n",
        "plt.xlabel('Temperature')\n",
        "plt.ylabel('Number of Observations')\n",
        "plt.legend(title='Acceptance (1 if \\naccepted, 0 otherwise)')"
      ],
      "metadata": {
        "colab": {
          "base_uri": "https://localhost:8080/",
          "height": 490
        },
        "id": "i67ScKZYLDHR",
        "outputId": "f7c5bf6e-46fc-4b9a-a003-0a39935f6e71"
      },
      "execution_count": 58,
      "outputs": [
        {
          "output_type": "execute_result",
          "data": {
            "text/plain": [
              "<matplotlib.legend.Legend at 0x7f9ce85f8730>"
            ]
          },
          "metadata": {},
          "execution_count": 58
        },
        {
          "output_type": "display_data",
          "data": {
            "text/plain": [
              "<Figure size 640x480 with 1 Axes>"
            ],
            "image/png": "[encoded data removed]"
          },
          "metadata": {}
        }
      ]
    },
    {
      "cell_type": "markdown",
      "source": [
        "Here we see something interesting. As the temperature was 80 degrees, the coupon acceptance rate was higher than its denial rate. At the other two observed temperatures, we observe the opposite relationship."
      ],
      "metadata": {
        "id": "Vq0l5ppcMS7C"
      }
    },
    {
      "cell_type": "code",
      "source": [],
      "metadata": {
        "id": "PziACJPEMDpW"
      },
      "execution_count": null,
      "outputs": []
    }
  ],
  "metadata": {
    "colab": {
      "provenance": [],
      "include_colab_link": true
    },
    "kernelspec": {
      "display_name": "Python 3 (ipykernel)",
      "language": "python",
      "name": "python3"
    },
    "language_info": {
      "codemirror_mode": {
        "name": "ipython",
        "version": 3
      },
      "file_extension": ".py",
      "mimetype": "text/x-python",
      "name": "python",
      "nbconvert_exporter": "python",
      "pygments_lexer": "ipython3",
      "version": "3.12.7"
    }
  },
  "nbformat": 4,
  "nbformat_minor": 0
}